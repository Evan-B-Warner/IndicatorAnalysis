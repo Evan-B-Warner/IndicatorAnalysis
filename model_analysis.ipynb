{
 "cells": [
  {
   "cell_type": "code",
   "execution_count": 84,
   "id": "05bd9546-13fa-4bae-b39b-fdf37aba23a5",
   "metadata": {},
   "outputs": [],
   "source": [
    "import json\n",
    "import keras\n",
    "from keras.layers import Dense, Dropout, Activation, Flatten, Conv2D, MaxPooling2D\n",
    "from keras.models import Sequential\n",
    "import matplotlib.pyplot as plt\n",
    "import pandas as pd\n",
    "import numpy as np\n",
    "from training_data_generation import model_ready_data"
   ]
  },
  {
   "cell_type": "code",
   "execution_count": 85,
   "id": "aae82223-113f-41f8-8f18-cfd1360a87a1",
   "metadata": {},
   "outputs": [],
   "source": [
    "def build_model(dense_architecture, input_shape, learning_rate):\n",
    "    model = Sequential()\n",
    "    \n",
    "    # dense layers\n",
    "    for i in range(len(dense_architecture)):\n",
    "        width = dense_architecture[i]\n",
    "        if i == 0:\n",
    "            model.add(Dense(width, activation=\"relu\", input_shape=input_shape))\n",
    "        else:\n",
    "            model.add(Dense(width, activation=\"relu\"))\n",
    "    \n",
    "    # add output layer\n",
    "    model.add(Dense(1, activation=\"linear\"))\n",
    "\n",
    "    # compile the model\n",
    "    optimizer = keras.optimizers.Adam(learning_rate=learning_rate)\n",
    "    model.compile(loss=\"MeanSquaredError\",\n",
    "                optimizer=optimizer,\n",
    "                metrics=[\"MeanAbsoluteError\"])\n",
    "    \n",
    "    return model"
   ]
  },
  {
   "cell_type": "code",
   "execution_count": 86,
   "id": "ca64927e-c503-4258-b4c6-ea71989a4f45",
   "metadata": {},
   "outputs": [],
   "source": [
    "with open(\"models/nn_1d.json\") as f:\n",
    "    hp = json.load(f)"
   ]
  },
  {
   "cell_type": "code",
   "execution_count": 87,
   "id": "97eb58e5-1a69-4eef-aa8b-ebdcfd9959d6",
   "metadata": {},
   "outputs": [
    {
     "data": {
      "text/plain": [
       "{'batch_size': 104.40364194547143,\n",
       " 'learning_rate': 0.0005,\n",
       " 'min_width': 145.7363732735778,\n",
       " 'num_epochs': 50.0,\n",
       " 'num_layers': 3.0}"
      ]
     },
     "execution_count": 87,
     "metadata": {},
     "output_type": "execute_result"
    }
   ],
   "source": [
    "hp"
   ]
  },
  {
   "cell_type": "code",
   "execution_count": 88,
   "id": "e8eca1b6-88f8-4f47-b9b4-bec949e3d405",
   "metadata": {},
   "outputs": [],
   "source": [
    "X_train, X_val, y_train, y_val, auxiliary_train, auxiliary_val = model_ready_data(\"data/X.csv\", \"data/y.csv\")\n",
    "input_shape = X_train[0].shape"
   ]
  },
  {
   "cell_type": "code",
   "execution_count": 89,
   "id": "6c7526e6-da33-4df2-bfd1-cc595be8ecf2",
   "metadata": {},
   "outputs": [],
   "source": [
    "final_architecture = [int(hp[\"min_width\"])*(2**i) for i in range(int(hp[\"num_layers\"]))]\n",
    "model = build_model(final_architecture, input_shape, hp[\"learning_rate\"])\n",
    "model.load_weights(\"models/nn_1d.h5\")"
   ]
  },
  {
   "cell_type": "code",
   "execution_count": 90,
   "id": "de89cce7-73a7-4ffe-915e-64e028ea6f5c",
   "metadata": {},
   "outputs": [
    {
     "name": "stdout",
     "output_type": "stream",
     "text": [
      "437/437 [==============================] - 0s 917us/step\n"
     ]
    },
    {
     "data": {
      "text/plain": [
       "(0.014043603654330964, 0.02386983197825795)"
      ]
     },
     "execution_count": 90,
     "metadata": {},
     "output_type": "execute_result"
    }
   ],
   "source": [
    "preds = model.predict(X_val)\n",
    "errors = (preds[:, 0] - y_val[:, 0])\n",
    "mse = np.mean(errors**2)\n",
    "mae = np.mean(abs(errors))\n",
    "mse, mae"
   ]
  },
  {
   "cell_type": "code",
   "execution_count": 91,
   "id": "1c964028-b9ff-466e-9623-005debd29ce5",
   "metadata": {},
   "outputs": [],
   "source": [
    "dates = auxiliary_val[:, 0]\n",
    "total_revenue = auxiliary_val[:, 1]\n",
    "revenue_per_share = auxiliary_val[:, 2]"
   ]
  },
  {
   "cell_type": "code",
   "execution_count": 92,
   "id": "6defa72b-524e-4a4d-9fbe-d1a338952cee",
   "metadata": {},
   "outputs": [],
   "source": [
    "results = pd.DataFrame()\n",
    "results[\"preds\"] = preds[:, 0]\n",
    "results[\"true\"] = y_val[:, 0]\n",
    "results[\"error\"] = errors\n",
    "results[\"mae\"] = mae\n",
    "results[\"date\"] = dates\n",
    "results[\"total_rev\"] = total_revenue"
   ]
  },
  {
   "cell_type": "code",
   "execution_count": 93,
   "id": "9b40f633-5d6e-4ad8-87bc-26c80c81fa9b",
   "metadata": {},
   "outputs": [],
   "source": [
    "def cross_with_true(df, other_column, num_cuts):\n",
    "    percentiles = []\n",
    "    for i in range(num_cuts):\n",
    "        next_percentile = np.nanpercentile(df[other_column], i*100/(num_cuts))\n",
    "        if next_percentile not in percentiles:\n",
    "            percentiles.append(round(next_percentile, 5))\n",
    "    percentiles.append(round(max(df[other_column]), 5))\n",
    "\n",
    "    formatted_ranges, mean_salaries = [], []\n",
    "    for i in range(1, len(percentiles)):\n",
    "        if i != len(percentiles)-1:\n",
    "            formatted_ranges.append(f\"[{round(percentiles[i-1]*100, 2)}, {round(percentiles[i]*100, 2)})\")\n",
    "            mean_salaries.append(round(df[(df[other_column] >= percentiles[i-1]) & (df[other_column] < percentiles[i])].true.mean()*100, 2))\n",
    "        else:\n",
    "            formatted_ranges.append(f\"[{round(percentiles[i-1]*100, 2)}, {round(percentiles[i]*100, 2)}]\")\n",
    "            mean_salaries.append(round(df[(df[other_column] >= percentiles[i-1]) & (df[other_column] <= percentiles[i])].true.mean()*100, 2))\n",
    "    \n",
    "    display_df = pd.DataFrame()\n",
    "    display_df[other_column] = formatted_ranges\n",
    "    display_df[\"true\"] = mean_salaries\n",
    "    return display_df"
   ]
  },
  {
   "cell_type": "code",
   "execution_count": 94,
   "id": "0d365f75-532a-40bb-84ec-51cb47b65bf1",
   "metadata": {},
   "outputs": [
    {
     "data": {
      "text/html": [
       "<div>\n",
       "<style scoped>\n",
       "    .dataframe tbody tr th:only-of-type {\n",
       "        vertical-align: middle;\n",
       "    }\n",
       "\n",
       "    .dataframe tbody tr th {\n",
       "        vertical-align: top;\n",
       "    }\n",
       "\n",
       "    .dataframe thead th {\n",
       "        text-align: right;\n",
       "    }\n",
       "</style>\n",
       "<table border=\"1\" class=\"dataframe\">\n",
       "  <thead>\n",
       "    <tr style=\"text-align: right;\">\n",
       "      <th></th>\n",
       "      <th>preds</th>\n",
       "      <th>true</th>\n",
       "    </tr>\n",
       "  </thead>\n",
       "  <tbody>\n",
       "    <tr>\n",
       "      <th>0</th>\n",
       "      <td>[-25.73, -1.03)</td>\n",
       "      <td>0.04</td>\n",
       "    </tr>\n",
       "    <tr>\n",
       "      <th>1</th>\n",
       "      <td>[-1.03, -0.02)</td>\n",
       "      <td>0.24</td>\n",
       "    </tr>\n",
       "    <tr>\n",
       "      <th>2</th>\n",
       "      <td>[-0.02, -0.0)</td>\n",
       "      <td>0.21</td>\n",
       "    </tr>\n",
       "    <tr>\n",
       "      <th>3</th>\n",
       "      <td>[-0.0, -0.0)</td>\n",
       "      <td>NaN</td>\n",
       "    </tr>\n",
       "    <tr>\n",
       "      <th>4</th>\n",
       "      <td>[-0.0, -0.0)</td>\n",
       "      <td>NaN</td>\n",
       "    </tr>\n",
       "    <tr>\n",
       "      <th>5</th>\n",
       "      <td>[-0.0, -0.0)</td>\n",
       "      <td>NaN</td>\n",
       "    </tr>\n",
       "    <tr>\n",
       "      <th>6</th>\n",
       "      <td>[-0.0, -0.0)</td>\n",
       "      <td>NaN</td>\n",
       "    </tr>\n",
       "    <tr>\n",
       "      <th>7</th>\n",
       "      <td>[-0.0, -0.0)</td>\n",
       "      <td>NaN</td>\n",
       "    </tr>\n",
       "    <tr>\n",
       "      <th>8</th>\n",
       "      <td>[-0.0, -0.0)</td>\n",
       "      <td>NaN</td>\n",
       "    </tr>\n",
       "    <tr>\n",
       "      <th>9</th>\n",
       "      <td>[-0.0, -0.0)</td>\n",
       "      <td>NaN</td>\n",
       "    </tr>\n",
       "    <tr>\n",
       "      <th>10</th>\n",
       "      <td>[-0.0, -0.0)</td>\n",
       "      <td>NaN</td>\n",
       "    </tr>\n",
       "    <tr>\n",
       "      <th>11</th>\n",
       "      <td>[-0.0, -0.0)</td>\n",
       "      <td>NaN</td>\n",
       "    </tr>\n",
       "    <tr>\n",
       "      <th>12</th>\n",
       "      <td>[-0.0, -0.0)</td>\n",
       "      <td>NaN</td>\n",
       "    </tr>\n",
       "    <tr>\n",
       "      <th>13</th>\n",
       "      <td>[-0.0, 0.0)</td>\n",
       "      <td>NaN</td>\n",
       "    </tr>\n",
       "    <tr>\n",
       "      <th>14</th>\n",
       "      <td>[0.0, 190.77]</td>\n",
       "      <td>0.23</td>\n",
       "    </tr>\n",
       "  </tbody>\n",
       "</table>\n",
       "</div>"
      ],
      "text/plain": [
       "              preds  true\n",
       "0   [-25.73, -1.03)  0.04\n",
       "1    [-1.03, -0.02)  0.24\n",
       "2     [-0.02, -0.0)  0.21\n",
       "3      [-0.0, -0.0)   NaN\n",
       "4      [-0.0, -0.0)   NaN\n",
       "5      [-0.0, -0.0)   NaN\n",
       "6      [-0.0, -0.0)   NaN\n",
       "7      [-0.0, -0.0)   NaN\n",
       "8      [-0.0, -0.0)   NaN\n",
       "9      [-0.0, -0.0)   NaN\n",
       "10     [-0.0, -0.0)   NaN\n",
       "11     [-0.0, -0.0)   NaN\n",
       "12     [-0.0, -0.0)   NaN\n",
       "13      [-0.0, 0.0)   NaN\n",
       "14    [0.0, 190.77]  0.23"
      ]
     },
     "execution_count": 94,
     "metadata": {},
     "output_type": "execute_result"
    }
   ],
   "source": [
    "cross_with_true(results, \"preds\", 15)"
   ]
  },
  {
   "cell_type": "code",
   "execution_count": 95,
   "id": "1bb80219-eaea-422a-b84e-85a27e3c01c8",
   "metadata": {},
   "outputs": [
    {
     "data": {
      "text/plain": [
       "(-1.0, 1.0)"
      ]
     },
     "execution_count": 95,
     "metadata": {},
     "output_type": "execute_result"
    },
    {
     "data": {
      "image/png": "[encoded data removed]",
      "text/plain": [
       "<Figure size 640x480 with 1 Axes>"
      ]
     },
     "metadata": {},
     "output_type": "display_data"
    }
   ],
   "source": [
    "plt.plot(results.preds, results.true, \"bo\")\n",
    "plt.plot([-15, 5], [-15, 5], color='red', linestyle='--', linewidth=2, label='Unity line')\n",
    "plt.xlim(-1, 1)\n",
    "plt.ylim(-1, 1)"
   ]
  },
  {
   "cell_type": "code",
   "execution_count": 96,
   "id": "f7b15a01-0ec2-4328-b18d-b3b788a517cf",
   "metadata": {},
   "outputs": [
    {
     "data": {
      "text/plain": [
       "array([[-1.19867463e-02,  5.99343031e-03,  3.89571255e-02],\n",
       "       [ 1.16693240e-03,  1.07354576e-03,  3.50061917e-03],\n",
       "       [ 2.80011509e-02,  1.31068999e-02,  1.10217139e-02],\n",
       "       ...,\n",
       "       [ 1.88674560e-03,  7.73584590e-02, -2.84905693e-01],\n",
       "       [ 1.76986759e-03,  6.19466315e-03,  9.73448273e-03],\n",
       "       [ 1.94861065e-04, -1.75404697e-03,  3.31315853e-03]])"
      ]
     },
     "execution_count": 96,
     "metadata": {},
     "output_type": "execute_result"
    }
   ],
   "source": [
    "y_val"
   ]
  },
  {
   "cell_type": "code",
   "execution_count": 106,
   "id": "bf11f085-c5f2-4b31-8e12-e703cbff8891",
   "metadata": {},
   "outputs": [
    {
     "data": {
      "text/plain": [
       "min       -0.600000\n",
       "mean       0.002031\n",
       "median     0.000000\n",
       "max       11.907240\n",
       "std        0.116736\n",
       "var        0.013627\n",
       "Name: true, dtype: float64"
      ]
     },
     "execution_count": 106,
     "metadata": {},
     "output_type": "execute_result"
    }
   ],
   "source": [
    "results[\"true\"].agg([\"min\", \"mean\", \"median\", \"max\", \"std\", \"var\"])"
   ]
  },
  {
   "cell_type": "code",
   "execution_count": 109,
   "id": "6b0d8271-9e16-4213-ba7f-cfa6d83cda7c",
   "metadata": {},
   "outputs": [
    {
     "data": {
      "text/html": [
       "<div>\n",
       "<style scoped>\n",
       "    .dataframe tbody tr th:only-of-type {\n",
       "        vertical-align: middle;\n",
       "    }\n",
       "\n",
       "    .dataframe tbody tr th {\n",
       "        vertical-align: top;\n",
       "    }\n",
       "\n",
       "    .dataframe thead th {\n",
       "        text-align: right;\n",
       "    }\n",
       "</style>\n",
       "<table border=\"1\" class=\"dataframe\">\n",
       "  <thead>\n",
       "    <tr style=\"text-align: right;\">\n",
       "      <th></th>\n",
       "      <th>preds</th>\n",
       "      <th>true</th>\n",
       "      <th>error</th>\n",
       "      <th>mae</th>\n",
       "      <th>date</th>\n",
       "      <th>total_rev</th>\n",
       "    </tr>\n",
       "  </thead>\n",
       "  <tbody>\n",
       "    <tr>\n",
       "      <th>1</th>\n",
       "      <td>-0.000002</td>\n",
       "      <td>0.001167</td>\n",
       "      <td>-0.001169</td>\n",
       "      <td>0.02387</td>\n",
       "      <td>2024-04-09 00:00:00-04:00</td>\n",
       "      <td>-1</td>\n",
       "    </tr>\n",
       "    <tr>\n",
       "      <th>3</th>\n",
       "      <td>-0.020801</td>\n",
       "      <td>-0.003763</td>\n",
       "      <td>-0.017037</td>\n",
       "      <td>0.02387</td>\n",
       "      <td>2024-03-04 00:00:00-05:00</td>\n",
       "      <td>3791636992</td>\n",
       "    </tr>\n",
       "    <tr>\n",
       "      <th>6</th>\n",
       "      <td>0.010553</td>\n",
       "      <td>-0.000228</td>\n",
       "      <td>0.010781</td>\n",
       "      <td>0.02387</td>\n",
       "      <td>2024-06-04 00:00:00-04:00</td>\n",
       "      <td>2908581120</td>\n",
       "    </tr>\n",
       "    <tr>\n",
       "      <th>8</th>\n",
       "      <td>-0.000002</td>\n",
       "      <td>0.000000</td>\n",
       "      <td>-0.000002</td>\n",
       "      <td>0.02387</td>\n",
       "      <td>2024-03-07 00:00:00-05:00</td>\n",
       "      <td>-1</td>\n",
       "    </tr>\n",
       "    <tr>\n",
       "      <th>9</th>\n",
       "      <td>-0.000002</td>\n",
       "      <td>0.000000</td>\n",
       "      <td>-0.000002</td>\n",
       "      <td>0.02387</td>\n",
       "      <td>2024-04-24 00:00:00-04:00</td>\n",
       "      <td>-1</td>\n",
       "    </tr>\n",
       "    <tr>\n",
       "      <th>...</th>\n",
       "      <td>...</td>\n",
       "      <td>...</td>\n",
       "      <td>...</td>\n",
       "      <td>...</td>\n",
       "      <td>...</td>\n",
       "      <td>...</td>\n",
       "    </tr>\n",
       "    <tr>\n",
       "      <th>13955</th>\n",
       "      <td>-0.000002</td>\n",
       "      <td>-0.003220</td>\n",
       "      <td>0.003218</td>\n",
       "      <td>0.02387</td>\n",
       "      <td>2024-06-03 00:00:00-04:00</td>\n",
       "      <td>231615008</td>\n",
       "    </tr>\n",
       "    <tr>\n",
       "      <th>13960</th>\n",
       "      <td>-0.000002</td>\n",
       "      <td>0.007491</td>\n",
       "      <td>-0.007492</td>\n",
       "      <td>0.02387</td>\n",
       "      <td>2024-05-02 00:00:00-04:00</td>\n",
       "      <td>1641020032</td>\n",
       "    </tr>\n",
       "    <tr>\n",
       "      <th>13961</th>\n",
       "      <td>-0.000002</td>\n",
       "      <td>0.001887</td>\n",
       "      <td>-0.001888</td>\n",
       "      <td>0.02387</td>\n",
       "      <td>2024-04-17 00:00:00-04:00</td>\n",
       "      <td>1146427008</td>\n",
       "    </tr>\n",
       "    <tr>\n",
       "      <th>13962</th>\n",
       "      <td>0.000501</td>\n",
       "      <td>0.001770</td>\n",
       "      <td>-0.001268</td>\n",
       "      <td>0.02387</td>\n",
       "      <td>2024-03-28 00:00:00-04:00</td>\n",
       "      <td>-1</td>\n",
       "    </tr>\n",
       "    <tr>\n",
       "      <th>13963</th>\n",
       "      <td>-0.000002</td>\n",
       "      <td>0.000195</td>\n",
       "      <td>-0.000197</td>\n",
       "      <td>0.02387</td>\n",
       "      <td>2024-04-03 00:00:00-04:00</td>\n",
       "      <td>39578386432</td>\n",
       "    </tr>\n",
       "  </tbody>\n",
       "</table>\n",
       "<p>6683 rows × 6 columns</p>\n",
       "</div>"
      ],
      "text/plain": [
       "          preds      true     error      mae                       date  \\\n",
       "1     -0.000002  0.001167 -0.001169  0.02387  2024-04-09 00:00:00-04:00   \n",
       "3     -0.020801 -0.003763 -0.017037  0.02387  2024-03-04 00:00:00-05:00   \n",
       "6      0.010553 -0.000228  0.010781  0.02387  2024-06-04 00:00:00-04:00   \n",
       "8     -0.000002  0.000000 -0.000002  0.02387  2024-03-07 00:00:00-05:00   \n",
       "9     -0.000002  0.000000 -0.000002  0.02387  2024-04-24 00:00:00-04:00   \n",
       "...         ...       ...       ...      ...                        ...   \n",
       "13955 -0.000002 -0.003220  0.003218  0.02387  2024-06-03 00:00:00-04:00   \n",
       "13960 -0.000002  0.007491 -0.007492  0.02387  2024-05-02 00:00:00-04:00   \n",
       "13961 -0.000002  0.001887 -0.001888  0.02387  2024-04-17 00:00:00-04:00   \n",
       "13962  0.000501  0.001770 -0.001268  0.02387  2024-03-28 00:00:00-04:00   \n",
       "13963 -0.000002  0.000195 -0.000197  0.02387  2024-04-03 00:00:00-04:00   \n",
       "\n",
       "         total_rev  \n",
       "1               -1  \n",
       "3       3791636992  \n",
       "6       2908581120  \n",
       "8               -1  \n",
       "9               -1  \n",
       "...            ...  \n",
       "13955    231615008  \n",
       "13960   1641020032  \n",
       "13961   1146427008  \n",
       "13962           -1  \n",
       "13963  39578386432  \n",
       "\n",
       "[6683 rows x 6 columns]"
      ]
     },
     "execution_count": 109,
     "metadata": {},
     "output_type": "execute_result"
    }
   ],
   "source": [
    "results[(results[\"true\"] > -0.01) & (results[\"true\"] < 0.01)]"
   ]
  },
  {
   "cell_type": "code",
   "execution_count": null,
   "id": "558bc0d3-efe6-48f5-8a35-5fb46b6aa927",
   "metadata": {},
   "outputs": [],
   "source": []
  }
 ],
 "metadata": {
  "kernelspec": {
   "display_name": "Python 3 (ipykernel)",
   "language": "python",
   "name": "python3"
  },
  "language_info": {
   "codemirror_mode": {
    "name": "ipython",
    "version": 3
   },
   "file_extension": ".py",
   "mimetype": "text/x-python",
   "name": "python",
   "nbconvert_exporter": "python",
   "pygments_lexer": "ipython3",
   "version": "3.9.13"
  }
 },
 "nbformat": 4,
 "nbformat_minor": 5
}
