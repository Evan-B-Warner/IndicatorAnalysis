{
 "cells": [
  {
   "cell_type": "code",
   "execution_count": 1,
   "id": "05bd9546-13fa-4bae-b39b-fdf37aba23a5",
   "metadata": {},
   "outputs": [],
   "source": [
    "import json\n",
    "import keras\n",
    "from keras.layers import Dense, Dropout, Activation, Flatten, Conv2D, MaxPooling2D\n",
    "from keras.models import Sequential\n",
    "import matplotlib.pyplot as plt\n",
    "import pandas as pd\n",
    "import numpy as np\n",
    "from scipy.stats import pearsonr\n",
    "from sklearn.linear_model import LinearRegression\n",
    "from training_data_generation import model_ready_data\n",
    "from sklearn.model_selection import train_test_split\n",
    "from xgboost import XGBRegressor\n",
    "from bayes_opt import BayesianOptimization"
   ]
  },
  {
   "cell_type": "markdown",
   "id": "48dbc002-ea55-4dcf-a662-96628a11830d",
   "metadata": {},
   "source": [
    "# Data Analysis"
   ]
  },
  {
   "cell_type": "code",
   "execution_count": 2,
   "id": "558bc0d3-efe6-48f5-8a35-5fb46b6aa927",
   "metadata": {},
   "outputs": [],
   "source": [
    "df = pd.read_csv(\"data/train_data.csv\")"
   ]
  },
  {
   "cell_type": "code",
   "execution_count": 3,
   "id": "190f420e-7fdc-4b86-b107-f0c7794234aa",
   "metadata": {},
   "outputs": [
    {
     "data": {
      "text/html": [
       "<div>\n",
       "<style scoped>\n",
       "    .dataframe tbody tr th:only-of-type {\n",
       "        vertical-align: middle;\n",
       "    }\n",
       "\n",
       "    .dataframe tbody tr th {\n",
       "        vertical-align: top;\n",
       "    }\n",
       "\n",
       "    .dataframe thead th {\n",
       "        text-align: right;\n",
       "    }\n",
       "</style>\n",
       "<table border=\"1\" class=\"dataframe\">\n",
       "  <thead>\n",
       "    <tr style=\"text-align: right;\">\n",
       "      <th></th>\n",
       "      <th>rsi_5</th>\n",
       "      <th>rsi_5-1</th>\n",
       "      <th>rsi_5-5</th>\n",
       "      <th>rsi_5-20</th>\n",
       "      <th>rsi_14</th>\n",
       "      <th>rsi_14-1</th>\n",
       "      <th>rsi_14-5</th>\n",
       "      <th>rsi_14-20</th>\n",
       "      <th>rsi_30</th>\n",
       "      <th>rsi_30-1</th>\n",
       "      <th>...</th>\n",
       "      <th>adx_30-20</th>\n",
       "      <th>close_price</th>\n",
       "      <th>high_price</th>\n",
       "      <th>low_price</th>\n",
       "      <th>date</th>\n",
       "      <th>total_revenue</th>\n",
       "      <th>revenue_per_share</th>\n",
       "      <th>1d</th>\n",
       "      <th>5d</th>\n",
       "      <th>20d</th>\n",
       "    </tr>\n",
       "  </thead>\n",
       "  <tbody>\n",
       "    <tr>\n",
       "      <th>0</th>\n",
       "      <td>53.095356</td>\n",
       "      <td>64.157989</td>\n",
       "      <td>75.573446</td>\n",
       "      <td>62.911868</td>\n",
       "      <td>62.825979</td>\n",
       "      <td>66.700784</td>\n",
       "      <td>70.418795</td>\n",
       "      <td>56.183486</td>\n",
       "      <td>61.249205</td>\n",
       "      <td>62.911737</td>\n",
       "      <td>...</td>\n",
       "      <td>1460.627531</td>\n",
       "      <td>145.582855</td>\n",
       "      <td>147.844979</td>\n",
       "      <td>145.393512</td>\n",
       "      <td>2024-03-18 00:00:00-04:00</td>\n",
       "      <td>6591000064</td>\n",
       "      <td>22.533</td>\n",
       "      <td>0.008899</td>\n",
       "      <td>-0.003628</td>\n",
       "      <td>-0.062070</td>\n",
       "    </tr>\n",
       "    <tr>\n",
       "      <th>1</th>\n",
       "      <td>23.523554</td>\n",
       "      <td>35.167644</td>\n",
       "      <td>57.288642</td>\n",
       "      <td>91.104898</td>\n",
       "      <td>45.535378</td>\n",
       "      <td>51.372333</td>\n",
       "      <td>60.416295</td>\n",
       "      <td>72.990983</td>\n",
       "      <td>53.408498</td>\n",
       "      <td>56.213974</td>\n",
       "      <td>...</td>\n",
       "      <td>1730.398337</td>\n",
       "      <td>141.078171</td>\n",
       "      <td>144.990907</td>\n",
       "      <td>140.868568</td>\n",
       "      <td>2024-04-04 00:00:00-04:00</td>\n",
       "      <td>6591000064</td>\n",
       "      <td>22.533</td>\n",
       "      <td>0.019669</td>\n",
       "      <td>0.025895</td>\n",
       "      <td>-0.027027</td>\n",
       "    </tr>\n",
       "    <tr>\n",
       "      <th>2</th>\n",
       "      <td>84.988019</td>\n",
       "      <td>80.916269</td>\n",
       "      <td>74.606227</td>\n",
       "      <td>16.623494</td>\n",
       "      <td>70.101517</td>\n",
       "      <td>67.190952</td>\n",
       "      <td>57.193581</td>\n",
       "      <td>34.380161</td>\n",
       "      <td>62.112529</td>\n",
       "      <td>60.317265</td>\n",
       "      <td>...</td>\n",
       "      <td>1753.408547</td>\n",
       "      <td>153.794571</td>\n",
       "      <td>154.263701</td>\n",
       "      <td>152.227472</td>\n",
       "      <td>2024-05-15 00:00:00-04:00</td>\n",
       "      <td>6591000064</td>\n",
       "      <td>22.533</td>\n",
       "      <td>0.001493</td>\n",
       "      <td>-0.007853</td>\n",
       "      <td>-0.152583</td>\n",
       "    </tr>\n",
       "    <tr>\n",
       "      <th>3</th>\n",
       "      <td>60.437385</td>\n",
       "      <td>28.427980</td>\n",
       "      <td>21.007312</td>\n",
       "      <td>40.590883</td>\n",
       "      <td>48.490119</td>\n",
       "      <td>35.835017</td>\n",
       "      <td>37.720252</td>\n",
       "      <td>57.543973</td>\n",
       "      <td>50.888402</td>\n",
       "      <td>45.348900</td>\n",
       "      <td>...</td>\n",
       "      <td>2223.930239</td>\n",
       "      <td>138.942139</td>\n",
       "      <td>139.391302</td>\n",
       "      <td>135.758045</td>\n",
       "      <td>2024-04-23 00:00:00-04:00</td>\n",
       "      <td>6591000064</td>\n",
       "      <td>22.533</td>\n",
       "      <td>-0.012284</td>\n",
       "      <td>-0.015517</td>\n",
       "      <td>0.103951</td>\n",
       "    </tr>\n",
       "    <tr>\n",
       "      <th>4</th>\n",
       "      <td>45.016102</td>\n",
       "      <td>43.973284</td>\n",
       "      <td>84.531400</td>\n",
       "      <td>53.666856</td>\n",
       "      <td>59.759175</td>\n",
       "      <td>59.564562</td>\n",
       "      <td>70.129567</td>\n",
       "      <td>46.565516</td>\n",
       "      <td>58.054938</td>\n",
       "      <td>57.967834</td>\n",
       "      <td>...</td>\n",
       "      <td>2390.363024</td>\n",
       "      <td>150.380920</td>\n",
       "      <td>151.179442</td>\n",
       "      <td>149.282952</td>\n",
       "      <td>2024-05-24 00:00:00-04:00</td>\n",
       "      <td>6591000064</td>\n",
       "      <td>22.533</td>\n",
       "      <td>-0.016262</td>\n",
       "      <td>-0.127838</td>\n",
       "      <td>-0.106000</td>\n",
       "    </tr>\n",
       "  </tbody>\n",
       "</table>\n",
       "<p>5 rows × 97 columns</p>\n",
       "</div>"
      ],
      "text/plain": [
       "       rsi_5    rsi_5-1    rsi_5-5   rsi_5-20     rsi_14   rsi_14-1  \\\n",
       "0  53.095356  64.157989  75.573446  62.911868  62.825979  66.700784   \n",
       "1  23.523554  35.167644  57.288642  91.104898  45.535378  51.372333   \n",
       "2  84.988019  80.916269  74.606227  16.623494  70.101517  67.190952   \n",
       "3  60.437385  28.427980  21.007312  40.590883  48.490119  35.835017   \n",
       "4  45.016102  43.973284  84.531400  53.666856  59.759175  59.564562   \n",
       "\n",
       "    rsi_14-5  rsi_14-20     rsi_30   rsi_30-1  ...    adx_30-20  close_price  \\\n",
       "0  70.418795  56.183486  61.249205  62.911737  ...  1460.627531   145.582855   \n",
       "1  60.416295  72.990983  53.408498  56.213974  ...  1730.398337   141.078171   \n",
       "2  57.193581  34.380161  62.112529  60.317265  ...  1753.408547   153.794571   \n",
       "3  37.720252  57.543973  50.888402  45.348900  ...  2223.930239   138.942139   \n",
       "4  70.129567  46.565516  58.054938  57.967834  ...  2390.363024   150.380920   \n",
       "\n",
       "   high_price   low_price                       date  total_revenue  \\\n",
       "0  147.844979  145.393512  2024-03-18 00:00:00-04:00     6591000064   \n",
       "1  144.990907  140.868568  2024-04-04 00:00:00-04:00     6591000064   \n",
       "2  154.263701  152.227472  2024-05-15 00:00:00-04:00     6591000064   \n",
       "3  139.391302  135.758045  2024-04-23 00:00:00-04:00     6591000064   \n",
       "4  151.179442  149.282952  2024-05-24 00:00:00-04:00     6591000064   \n",
       "\n",
       "   revenue_per_share        1d        5d       20d  \n",
       "0             22.533  0.008899 -0.003628 -0.062070  \n",
       "1             22.533  0.019669  0.025895 -0.027027  \n",
       "2             22.533  0.001493 -0.007853 -0.152583  \n",
       "3             22.533 -0.012284 -0.015517  0.103951  \n",
       "4             22.533 -0.016262 -0.127838 -0.106000  \n",
       "\n",
       "[5 rows x 97 columns]"
      ]
     },
     "execution_count": 3,
     "metadata": {},
     "output_type": "execute_result"
    }
   ],
   "source": [
    "df.head()"
   ]
  },
  {
   "cell_type": "code",
   "execution_count": 18,
   "id": "ebc16199-e2a9-4b79-9c00-f815d9a77453",
   "metadata": {},
   "outputs": [
    {
     "data": {
      "text/plain": [
       "Index(['rsi_5', 'rsi_5-1', 'rsi_5-5', 'rsi_5-20', 'rsi_14', 'rsi_14-1',\n",
       "       'rsi_14-5', 'rsi_14-20', 'rsi_30', 'rsi_30-1', 'rsi_30-5', 'rsi_30-20',\n",
       "       'ma_5', 'ma_5-1', 'ma_5-5', 'ma_5-20', 'ma_20', 'ma_20-1', 'ma_20-5',\n",
       "       'ma_20-20', 'ma_50', 'ma_50-1', 'ma_50-5', 'ma_50-20', 'ma_100',\n",
       "       'ma_100-1', 'ma_100-5', 'ma_100-20', 'ema_5', 'ema_5-1', 'ema_5-5',\n",
       "       'ema_5-20', 'ema_20', 'ema_20-1', 'ema_20-5', 'ema_20-20', 'ema_50',\n",
       "       'ema_50-1', 'ema_50-5', 'ema_50-20', 'ema_100', 'ema_100-1',\n",
       "       'ema_100-5', 'ema_100-20', 'macd', 'macd-1', 'macd-5', 'macd-20',\n",
       "       'macd_signal', 'macd_signal-1', 'macd_signal-5', 'macd_signal-20',\n",
       "       'so_5', 'so_5-1', 'so_5-5', 'so_5-20', 'so_14', 'so_14-1', 'so_14-5',\n",
       "       'so_14-20', 'so_30', 'so_30-1', 'so_30-5', 'so_30-20', 'atr_5',\n",
       "       'atr_5-1', 'atr_5-5', 'atr_5-20', 'atr_14', 'atr_14-1', 'atr_14-5',\n",
       "       'atr_14-20', 'atr_30', 'atr_30-1', 'atr_30-5', 'atr_30-20', 'adx_5',\n",
       "       'adx_5-1', 'adx_5-5', 'adx_5-20', 'adx_14', 'adx_14-1', 'adx_14-5',\n",
       "       'adx_14-20', 'adx_30', 'adx_30-1', 'adx_30-5', 'adx_30-20',\n",
       "       'close_price', 'high_price', 'low_price', 'date', 'total_revenue',\n",
       "       'revenue_per_share', '1d', '5d', '20d'],\n",
       "      dtype='object')"
      ]
     },
     "execution_count": 18,
     "metadata": {},
     "output_type": "execute_result"
    }
   ],
   "source": [
    "df.columns"
   ]
  },
  {
   "cell_type": "markdown",
   "id": "6cb20bc4-2e5a-4241-aee2-521516aa6994",
   "metadata": {},
   "source": [
    "## Rules of Thumb"
   ]
  },
  {
   "cell_type": "code",
   "execution_count": 29,
   "id": "dcbfd624-c33a-49a9-af59-12581f1cf6fe",
   "metadata": {},
   "outputs": [
    {
     "name": "stdout",
     "output_type": "stream",
     "text": [
      "RSI 5 crosses 30 (buy): 0.0018137765587544301 0.005115145505558035 0.010409935379029499\n",
      "RSI 5 crosses 70 (sell): -0.001510308039844408 -0.0020302735207851897 -0.01096907301203611\n",
      "RSI 14 crosses 30 (buy): 0.005873705436392935 0.007143736407387698 0.00507575676973978\n",
      "RSI 14 crosses 70 (sell): -0.007057020750323551 -0.005875520984527831 -0.026360603820160672\n",
      "RSI 30 crosses 30 (buy): -0.005604087250298568 0.0028928939194180587 -0.0006025114369441029\n",
      "RSI 30 crosses 70 (sell): -0.008328777552019512 -0.007261786736027016 -0.06700260291857116\n"
     ]
    }
   ],
   "source": [
    "# RSI\n",
    "res = df[(df[\"rsi_5\"] < 30) & (df[\"rsi_5-1\"] > 30)]\n",
    "print(\"RSI 5 crosses 30 (buy):\", res[\"1d\"].mean(), res[\"5d\"].mean(), res[\"20d\"].mean())\n",
    "res = df[(df[\"rsi_5\"] > 70) & (df[\"rsi_5-1\"] < 70)]\n",
    "print(\"RSI 5 crosses 70 (sell):\", res[\"1d\"].mean(), res[\"5d\"].mean(), res[\"20d\"].mean())\n",
    "res = df[(df[\"rsi_14\"] < 30) & (df[\"rsi_14-1\"] > 30)]\n",
    "print(\"RSI 14 crosses 30 (buy):\", res[\"1d\"].mean(), res[\"5d\"].mean(), res[\"20d\"].mean())\n",
    "res = df[(df[\"rsi_14\"] > 70) & (df[\"rsi_14-1\"] < 70)]\n",
    "print(\"RSI 14 crosses 70 (sell):\", res[\"1d\"].mean(), res[\"5d\"].mean(), res[\"20d\"].mean())\n",
    "res = df[(df[\"rsi_30\"] < 30) & (df[\"rsi_30-1\"] > 30)]\n",
    "print(\"RSI 30 crosses 30 (buy):\", res[\"1d\"].mean(), res[\"5d\"].mean(), res[\"20d\"].mean())\n",
    "res = df[(df[\"rsi_30\"] > 70) & (df[\"rsi_30-1\"] < 70)]\n",
    "print(\"RSI 30 crosses 70 (sell):\", res[\"1d\"].mean(), res[\"5d\"].mean(), res[\"20d\"].mean())"
   ]
  },
  {
   "cell_type": "code",
   "execution_count": 27,
   "id": "6c7cb88f-087f-4644-b07d-c50069e7c56e",
   "metadata": {},
   "outputs": [
    {
     "name": "stdout",
     "output_type": "stream",
     "text": [
      "MA 5 > close price (buy): 0.0015481150982845184 0.0020483756228224124 0.003751128947905796\n",
      "MA 5 < close price (sell): -0.0011137000687749267 -0.0015840142798558183 -0.003515109065569942\n",
      "MA 20 > close price (buy): 0.001302418287592201 0.0027884276486124194 0.007574865094162459\n",
      "MA 20 < close price (sell): -0.000853500468961728 -0.0025488118606893026 -0.006752612078693955\n",
      "MA 50 > close price (buy): 0.0012979212329064969 0.002783406269241046 0.006605822710981423\n",
      "MA 50 < close price (sell): -0.0008053918885001439 -0.0024489528525477467 -0.005604010905814744\n",
      "MA 100 > close price (buy): 0.0014960235350267557 0.0032308316965923766 0.006925610736352156\n",
      "MA 100 < close price (sell): 0.0009373918923021115 -0.0006386854850907257 -0.004799611349952496\n"
     ]
    }
   ],
   "source": [
    "# MA\n",
    "res = df[(df[\"ma_5\"] > df[\"close_price\"])]\n",
    "print(\"MA 5 > close price (buy):\", res[\"1d\"].mean(), res[\"5d\"].mean(), res[\"20d\"].mean())\n",
    "res = df[(df[\"ma_5\"] < df[\"close_price\"])]\n",
    "print(\"MA 5 < close price (sell):\", res[\"1d\"].mean(), res[\"5d\"].mean(), res[\"20d\"].mean())\n",
    "res = df[(df[\"ma_20\"] > df[\"close_price\"])]\n",
    "print(\"MA 20 > close price (buy):\", res[\"1d\"].mean(), res[\"5d\"].mean(), res[\"20d\"].mean())\n",
    "res = df[(df[\"ma_20\"] < df[\"close_price\"])]\n",
    "print(\"MA 20 < close price (sell):\", res[\"1d\"].mean(), res[\"5d\"].mean(), res[\"20d\"].mean())\n",
    "res = df[(df[\"ma_50\"] > df[\"close_price\"])]\n",
    "print(\"MA 50 > close price (buy):\", res[\"1d\"].mean(), res[\"5d\"].mean(), res[\"20d\"].mean())\n",
    "res = df[(df[\"ma_50\"] < df[\"close_price\"])]\n",
    "print(\"MA 50 < close price (sell):\", res[\"1d\"].mean(), res[\"5d\"].mean(), res[\"20d\"].mean())\n",
    "res = df[(df[\"ma_100\"] > df[\"close_price\"])]\n",
    "print(\"MA 100 > close price (buy):\", res[\"1d\"].mean(), res[\"5d\"].mean(), res[\"20d\"].mean())\n",
    "res = df[(df[\"ma_100\"] < df[\"close_price\"])]\n",
    "print(\"MA 100 < close price (sell):\", res[\"1d\"].mean(), res[\"5d\"].mean(), res[\"20d\"].mean())"
   ]
  },
  {
   "cell_type": "code",
   "execution_count": 28,
   "id": "b9a84778-0b71-42a3-9b5e-bf8b742772d6",
   "metadata": {},
   "outputs": [
    {
     "name": "stdout",
     "output_type": "stream",
     "text": [
      "EMA 5 > close price (buy): 0.0016035294033517734 0.0021201736658934124 0.005557544787757295\n",
      "EMA 5 < close price (sell): -0.0011552342771652905 -0.0017718039384743616 -0.004578851846218261\n",
      "EMA 20 > close price (buy): 0.0014564364679079081 0.002860530385289846 0.007366099835979188\n",
      "EMA 20 < close price (sell): 0.0009158102032558324 -0.0006716692817476751 -0.006613500047842063\n",
      "EMA 50 > close price (buy): 0.0013411671979225112 0.002924447643600017 0.007800354514045178\n",
      "EMA 50 < close price (sell): 0.0010516007657166608 -0.0006051873602651026 -0.0065317154937712535\n",
      "EMA 100 > close price (buy): 0.0014858108124675869 0.0030820457825757137 0.005433989628756728\n",
      "EMA 100 < close price (sell): 0.0009556059562262656 -0.00043449790168736464 -0.003328004954251085\n"
     ]
    }
   ],
   "source": [
    "#EMA\n",
    "res = df[(df[\"ema_5\"] > df[\"close_price\"])]\n",
    "print(\"EMA 5 > close price (buy):\", res[\"1d\"].mean(), res[\"5d\"].mean(), res[\"20d\"].mean())\n",
    "res = df[(df[\"ema_5\"] < df[\"close_price\"])]\n",
    "print(\"EMA 5 < close price (sell):\", res[\"1d\"].mean(), res[\"5d\"].mean(), res[\"20d\"].mean())\n",
    "res = df[(df[\"ema_20\"] > df[\"close_price\"])]\n",
    "print(\"EMA 20 > close price (buy):\", res[\"1d\"].mean(), res[\"5d\"].mean(), res[\"20d\"].mean())\n",
    "res = df[(df[\"ema_20\"] < df[\"close_price\"])]\n",
    "print(\"EMA 20 < close price (sell):\", res[\"1d\"].mean(), res[\"5d\"].mean(), res[\"20d\"].mean())\n",
    "res = df[(df[\"ema_50\"] > df[\"close_price\"])]\n",
    "print(\"EMA 50 > close price (buy):\", res[\"1d\"].mean(), res[\"5d\"].mean(), res[\"20d\"].mean())\n",
    "res = df[(df[\"ema_50\"] < df[\"close_price\"])]\n",
    "print(\"EMA 50 < close price (sell):\", res[\"1d\"].mean(), res[\"5d\"].mean(), res[\"20d\"].mean())\n",
    "res = df[(df[\"ema_100\"] > df[\"close_price\"])]\n",
    "print(\"EMA 100 > close price (buy):\", res[\"1d\"].mean(), res[\"5d\"].mean(), res[\"20d\"].mean())\n",
    "res = df[(df[\"ema_100\"] < df[\"close_price\"])]\n",
    "print(\"EMA 100 < close price (sell):\", res[\"1d\"].mean(), res[\"5d\"].mean(), res[\"20d\"].mean())"
   ]
  },
  {
   "cell_type": "code",
   "execution_count": 30,
   "id": "9606a17d-a007-48f0-9477-c76aca4e450b",
   "metadata": {},
   "outputs": [
    {
     "name": "stdout",
     "output_type": "stream",
     "text": [
      "MACD crosses over signal (buy): -0.0019740558536386417 0.0003695344797250353 0.005728838795342328\n",
      "MACD crosses under signal (buy): 0.0014253213848993813 0.0006819811034685641 0.000994053033735929\n"
     ]
    }
   ],
   "source": [
    "# MACD\n",
    "res = df[(df[\"macd\"] > df[\"macd_signal\"]) & (df[\"macd-1\"] < df[\"macd_signal-1\"])]\n",
    "print(\"MACD crosses over signal (buy):\", res[\"1d\"].mean(), res[\"5d\"].mean(), res[\"20d\"].mean())\n",
    "res = df[(df[\"macd\"] < df[\"macd_signal\"]) & (df[\"macd-1\"] > df[\"macd_signal-1\"])]\n",
    "print(\"MACD crosses under signal (buy):\", res[\"1d\"].mean(), res[\"5d\"].mean(), res[\"20d\"].mean())"
   ]
  },
  {
   "cell_type": "code",
   "execution_count": 31,
   "id": "f6b0b968-dcb1-4354-8ae6-c5c583d8e620",
   "metadata": {},
   "outputs": [
    {
     "name": "stdout",
     "output_type": "stream",
     "text": [
      "SO 5 crosses 20 (buy): 0.001069111913283143 0.0024086985142182287 0.0024881015616507194\n",
      "SO 5 crosses 80 (sell): -0.0010924061078562107 -0.0029467645755354337 -0.005060109159825116\n",
      "SO 14 crosses 20 (buy): 0.0016876795335331073 0.004575345077235599 0.00847188130192369\n",
      "SO 14 crosses 80 (sell): -0.0009240590963861839 -0.0021972194442751464 -0.0072906962367969225\n",
      "SO 30 crosses 20 (buy): 0.0014096028279958492 0.009747303504131694 0.008374991439180572\n",
      "SO 30 crosses 80 (sell): -0.0006278413730834672 -0.002542083135605518 -0.010806281751454322\n"
     ]
    }
   ],
   "source": [
    "# SO\n",
    "res = df[(df[\"so_5\"] < 20) & (df[\"so_5-1\"] > 20)]\n",
    "print(\"SO 5 crosses 20 (buy):\", res[\"1d\"].mean(), res[\"5d\"].mean(), res[\"20d\"].mean())\n",
    "res = df[(df[\"so_5\"] > 80) & (df[\"so_5-1\"] < 80)]\n",
    "print(\"SO 5 crosses 80 (sell):\", res[\"1d\"].mean(), res[\"5d\"].mean(), res[\"20d\"].mean())\n",
    "res = df[(df[\"so_14\"] < 20) & (df[\"so_14-1\"] > 20)]\n",
    "print(\"SO 14 crosses 20 (buy):\", res[\"1d\"].mean(), res[\"5d\"].mean(), res[\"20d\"].mean())\n",
    "res = df[(df[\"so_14\"] > 80) & (df[\"so_14-1\"] < 80)]\n",
    "print(\"SO 14 crosses 80 (sell):\", res[\"1d\"].mean(), res[\"5d\"].mean(), res[\"20d\"].mean())\n",
    "res = df[(df[\"so_30\"] < 20) & (df[\"so_30-1\"] > 20)]\n",
    "print(\"SO 30 crosses 20 (buy):\", res[\"1d\"].mean(), res[\"5d\"].mean(), res[\"20d\"].mean())\n",
    "res = df[(df[\"so_30\"] > 80) & (df[\"so_30-1\"] < 80)]\n",
    "print(\"SO 30 crosses 80 (sell):\", res[\"1d\"].mean(), res[\"5d\"].mean(), res[\"20d\"].mean())"
   ]
  },
  {
   "cell_type": "code",
   "execution_count": 34,
   "id": "55418460-7ba3-4632-89d2-f3a8d7b44ea7",
   "metadata": {},
   "outputs": [
    {
     "name": "stdout",
     "output_type": "stream",
     "text": [
      "Price closes above ATR + MA 5 (buy): -0.0021289080902315042 -0.0025912862516028886 -0.006796197519521824\n"
     ]
    }
   ],
   "source": [
    "# ATR\n",
    "res = df[(df[\"close_price\"] > df[\"atr_14\"] + df[\"ma_5\"])]\n",
    "print(\"Price closes above ATR + MA 5 (buy):\", res[\"1d\"].mean(), res[\"5d\"].mean(), res[\"20d\"].mean())"
   ]
  },
  {
   "cell_type": "code",
   "execution_count": null,
   "id": "b5b2a574-91eb-4c68-bb34-09987ce21ab8",
   "metadata": {},
   "outputs": [],
   "source": [
    "def rut_model():\n",
    "    "
   ]
  },
  {
   "cell_type": "code",
   "execution_count": null,
   "id": "d2ddd457-8f84-46bc-8a11-5e06046f0ecd",
   "metadata": {},
   "outputs": [],
   "source": []
  },
  {
   "cell_type": "code",
   "execution_count": null,
   "id": "30435247-7aa0-4647-a7cd-521ddd6ef4fd",
   "metadata": {},
   "outputs": [],
   "source": []
  },
  {
   "cell_type": "code",
   "execution_count": null,
   "id": "3dd42ce9-5471-42e4-9bcd-6219eab84c1b",
   "metadata": {},
   "outputs": [],
   "source": []
  },
  {
   "cell_type": "code",
   "execution_count": null,
   "id": "1e8aa105-84d6-4cf2-8bb0-87b21c87d0c4",
   "metadata": {},
   "outputs": [],
   "source": []
  },
  {
   "cell_type": "code",
   "execution_count": 5,
   "id": "3720c4b5-2512-4987-9157-64714c0da2ad",
   "metadata": {
    "scrolled": true
   },
   "outputs": [
    {
     "name": "stdout",
     "output_type": "stream",
     "text": [
      "rsi_5 0.0 50.517437273128834 100.0\n",
      "rsi_5-1 0.0 50.56124057427169 100.0\n",
      "rsi_5-5 0.0 50.74227890409773 100.0\n",
      "rsi_5-20 0.0 51.97468628717156 100.0\n",
      "rsi_14 0.0 51.347780285625426 100.0\n",
      "rsi_14-1 0.0 51.39850167531779 100.0\n",
      "rsi_14-5 0.0 51.58462804232582 100.0\n",
      "rsi_14-20 0.0 52.17006487229551 100.0\n",
      "rsi_30 0.0 52.05945589856411 100.0\n",
      "rsi_30-1 0.0 52.09778281937483 100.0\n",
      "rsi_30-5 0.0 52.240780487823855 100.0\n",
      "rsi_30-20 0.0 52.67851633640449 100.0\n",
      "ma_5 9.999999747378752e-05 42.31069080761836 7936.6859375\n",
      "ma_5-1 9.999999747378752e-05 42.30421372370305 7974.833984375\n",
      "ma_5-5 9.999999747378752e-05 42.27960770855933 7945.2919921875\n",
      "ma_5-20 9.999999747378752e-05 42.03661190335032 7926.1419921875\n",
      "ma_20 9.999999747378752e-05 42.242581435928955 7831.594482421875\n",
      "ma_20-1 9.999999747378752e-05 42.231902034523394 7835.191479492188\n",
      "ma_20-5 9.999999747378752e-05 42.17406170986195 7878.175\n",
      "ma_20-20 9.999999747378752e-05 41.83535218415936 7876.8669921875\n",
      "ma_50 9.999999747378752e-05 41.9599187025325 7740.75578125\n",
      "ma_50-1 9.999999747378752e-05 41.94616654182514 7740.91998046875\n",
      "ma_50-5 9.999999747378752e-05 41.884400124284674 7740.851376953125\n",
      "ma_50-20 9.999999747378752e-05 41.53823136020994 7740.91998046875\n",
      "ma_100 9.999999747378752e-05 41.14866308570489 7591.830795898438\n",
      "ma_100-1 9.999999747378752e-05 41.11666650498568 7589.412392578125\n",
      "ma_100-5 9.999999747378752e-05 40.98655117825852 7574.078193359375\n",
      "ma_100-20 9.999999747378752e-05 40.49951297765501 7496.432099609375\n",
      "ema_5 9.999999747378752e-05 42.30625377045007 7890.261932140842\n",
      "ema_5-1 9.999999747378752e-05 42.303697812823415 7936.17195089662\n",
      "ema_5-5 9.999999747378752e-05 42.274916905097726 7917.294695750066\n",
      "ema_5-20 9.999999747378752e-05 42.03737076930939 7895.857889656396\n",
      "ema_20 9.999999747378752e-05 42.21749915631935 7822.535396820746\n",
      "ema_20-1 9.999999747378752e-05 42.20761846901576 7825.960175433457\n",
      "ema_20-5 9.999999747378752e-05 42.156888744227615 7801.301817929009\n",
      "ema_20-20 9.999999747378752e-05 41.85568781914937 7816.491482974168\n",
      "ema_50 9.999999747378752e-05 41.895746050431704 7653.892786979513\n",
      "ema_50-1 9.999999747378752e-05 41.87878198368592 7646.496171620258\n",
      "ema_50-5 9.999999747378752e-05 41.80384894411531 7642.896388530013\n",
      "ema_50-20 9.999999747378752e-05 41.453565906899634 7656.764177596046\n",
      "ema_100 9.999999747378752e-05 41.38633408951098 7453.296189504155\n",
      "ema_100-1 9.999999747378752e-05 41.367646582517196 7449.163787319265\n",
      "ema_100-5 9.999999747378752e-05 41.28911188836257 7440.8494718838465\n",
      "ema_100-20 9.999999747378752e-05 40.9616916363763 7404.860059242871\n",
      "macd -123.76793232407329 0.1121302872882419 226.79717485303195\n",
      "macd-1 -127.52252936758188 0.117480126317089 233.92996959387824\n",
      "macd-5 -135.12308947133968 0.13537037143853237 228.86601814891085\n",
      "macd-20 -123.76793232407329 0.1633296502750269 263.8685257000568\n",
      "macd_signal -126.74653857663756 0.12949873763153255 229.5125156974221\n",
      "macd_signal-1 -127.4911901397786 0.13384085021735517 233.0371839620284\n",
      "macd_signal-5 -126.74653857663756 0.14875179413415357 226.80037131838552\n",
      "macd_signal-20 -155.24775384035968 0.16046753263086813 224.74952207030697\n",
      "so_5 0.0 48.555990946631525 100.0\n",
      "so_5-1 0.0 48.48120213105385 100.0\n",
      "so_5-5 0.0 48.42516476527972 100.0\n",
      "so_5-20 0.0 50.09594366051546 100.0\n",
      "so_14 0.0 47.42981074355756 100.0\n",
      "so_14-1 0.0 47.47233593366022 100.0\n",
      "so_14-5 0.0 47.806382420345294 100.0\n",
      "so_14-20 0.0 49.98465971381594 100.0\n",
      "so_30 0.0 47.26307899366266 100.0\n",
      "so_30-1 0.0 47.38890016484606 100.0\n",
      "so_30-5 0.0 47.88476103809981 100.0\n",
      "so_30-20 0.0 48.57750148147891 100.0\n",
      "atr_5 0.0 1.1062037511177116 201.88143820736903\n",
      "atr_5-1 0.0 1.1077091059074642 222.8517977592113\n",
      "atr_5-5 0.0 1.1138267276000469 222.33676129423603\n",
      "atr_5-20 0.0 1.1322997299276745 222.88192416816256\n",
      "atr_14 0.0 1.1150908950206309 178.49388056425414\n",
      "atr_14-1 0.0 1.116237707563856 181.1371471528265\n",
      "atr_14-5 0.0 1.120725786512003 176.65292683767117\n",
      "atr_14-20 0.0 1.1278625339498138 183.76853660275663\n",
      "atr_30 0.0 1.122872635134053 175.21870350172787\n",
      "atr_30-1 0.0 1.123655059381479 180.4676243121323\n",
      "atr_30-5 0.0 1.1266278920967654 204.77224408771656\n",
      "atr_30-20 0.0 1.1319540087667583 290.23367399819745\n",
      "adx_5 -6110628.570926297 5461.8985825617365 1626703.037190464\n",
      "adx_5-1 -6110628.570926297 5566.865495322187 2438010.586676199\n",
      "adx_5-5 -1053767.9649011618 5691.976691110995 6467544.5741722025\n",
      "adx_5-20 -390758.4170174706 5644.937890369862 1919503.6647335875\n",
      "adx_14 0.0 3464.7021558261167 20267.08573516988\n",
      "adx_14-1 0.0 3466.4894114078356 19920.499234747083\n",
      "adx_14-5 0.0 3473.172432575239 17912.40658778223\n",
      "adx_14-20 0.0 3480.756793669685 20267.08573516988\n",
      "adx_30 0.0 2494.042473737144 15824.971015054049\n",
      "adx_30-1 0.0 2495.912212792376 15479.995277943091\n",
      "adx_30-5 0.0 2502.9466523239043 13845.196552133237\n",
      "adx_30-20 0.0 2523.174630955701 15824.971015054049\n",
      "close_price 9.999999747378752e-05 42.31136568570339 7971.7099609375\n",
      "high_price 9.999999747378752e-05 42.82962882574054 8035.14013671875\n",
      "low_price 9.999999747378752e-05 41.81144201667723 7861.60009765625\n",
      "total_revenue -381148992 96297547838.03186 135526862553088\n",
      "revenue_per_share -86.716 150.1843865567867 129080.195\n",
      "1d -0.8947368465393647 0.0011954352507560525 60.22222482360168\n",
      "5d -0.9836660624000308 0.0011720801692412799 60.22222482360168\n",
      "20d -0.9942307691481076 0.0006527198331492629 14.000000509317044\n"
     ]
    }
   ],
   "source": [
    "for col in df:\n",
    "    try:\n",
    "        print(col, df[col].min(), df[col].mean(), df[col].max())\n",
    "    except:\n",
    "        pass"
   ]
  },
  {
   "cell_type": "code",
   "execution_count": 6,
   "id": "4c0099df-eedf-4e55-bcd8-174f48abcbdf",
   "metadata": {},
   "outputs": [],
   "source": [
    "# adjust MA and EMA by close price\n",
    "df[\"ma_5\"] = df[\"ma_5\"]/df[\"close_price\"]\n",
    "df[\"ma_5-1\"] = df[\"ma_5-1\"]/df[\"close_price\"]\n",
    "df[\"ma_5-5\"] = df[\"ma_5-5\"]/df[\"close_price\"]\n",
    "df[\"ma_5-20\"] = df[\"ma_5-20\"]/df[\"close_price\"]\n",
    "df[\"ma_20\"] = df[\"ma_20\"]/df[\"close_price\"]\n",
    "df[\"ma_20-1\"] = df[\"ma_20-1\"]/df[\"close_price\"]\n",
    "df[\"ma_20-5\"] = df[\"ma_20-5\"]/df[\"close_price\"]\n",
    "df[\"ma_20-20\"] = df[\"ma_20-20\"]/df[\"close_price\"]\n",
    "df[\"ma_50\"] = df[\"ma_50\"]/df[\"close_price\"]\n",
    "df[\"ma_50-1\"] = df[\"ma_50-1\"]/df[\"close_price\"]\n",
    "df[\"ma_50-5\"] = df[\"ma_50-5\"]/df[\"close_price\"]\n",
    "df[\"ma_50-20\"] = df[\"ma_50-20\"]/df[\"close_price\"]\n",
    "df[\"ma_100\"] = df[\"ma_100\"]/df[\"close_price\"]\n",
    "df[\"ma_100-1\"] = df[\"ma_100-1\"]/df[\"close_price\"]\n",
    "df[\"ma_100-5\"] = df[\"ma_100-5\"]/df[\"close_price\"]\n",
    "df[\"ma_100-20\"] = df[\"ma_100-20\"]/df[\"close_price\"]\n",
    "df[\"ema_5\"] = df[\"ema_5\"]/df[\"close_price\"]\n",
    "df[\"ema_5-1\"] = df[\"ema_5-1\"]/df[\"close_price\"]\n",
    "df[\"ema_5-5\"] = df[\"ema_5-5\"]/df[\"close_price\"]\n",
    "df[\"ema_5-20\"] = df[\"ema_5-20\"]/df[\"close_price\"]\n",
    "df[\"ema_20\"] = df[\"ema_20\"]/df[\"close_price\"]\n",
    "df[\"ema_20-1\"] = df[\"ema_20-1\"]/df[\"close_price\"]\n",
    "df[\"ema_20-5\"] = df[\"ema_20-5\"]/df[\"close_price\"]\n",
    "df[\"ema_20-20\"] = df[\"ema_20-20\"]/df[\"close_price\"]\n",
    "df[\"ema_50\"] = df[\"ema_50\"]/df[\"close_price\"]\n",
    "df[\"ema_50-1\"] = df[\"ema_50-1\"]/df[\"close_price\"]\n",
    "df[\"ema_50-5\"] = df[\"ema_50-5\"]/df[\"close_price\"]\n",
    "df[\"ema_50-20\"] = df[\"ema_50-20\"]/df[\"close_price\"]\n",
    "df[\"ema_100\"] = df[\"ema_100\"]/df[\"close_price\"]\n",
    "df[\"ema_100-1\"] = df[\"ema_100-1\"]/df[\"close_price\"]\n",
    "df[\"ema_100-5\"] = df[\"ema_100-5\"]/df[\"close_price\"]\n",
    "df[\"ema_100-20\"] = df[\"ema_100-20\"]/df[\"close_price\"]"
   ]
  },
  {
   "cell_type": "code",
   "execution_count": 8,
   "id": "6d8b8add-c357-41f5-b7a5-b27790be6f53",
   "metadata": {
    "scrolled": true
   },
   "outputs": [
    {
     "name": "stdout",
     "output_type": "stream",
     "text": [
      "0 88\n",
      "1 88\n",
      "2 88\n",
      "3 88\n",
      "4 88\n",
      "5 88\n",
      "6 88\n",
      "7 88\n",
      "8 88\n",
      "9 88\n",
      "10 88\n",
      "11 88\n",
      "12 88\n",
      "13 88\n",
      "14 88\n",
      "15 88\n",
      "16 88\n",
      "17 88\n",
      "18 88\n",
      "19 88\n",
      "20 88\n",
      "21 88\n",
      "22 88\n",
      "23 88\n",
      "24 88\n",
      "25 88\n",
      "26 88\n",
      "27 88\n",
      "28 88\n",
      "29 88\n",
      "30 88\n",
      "31 88\n",
      "32 88\n",
      "33 88\n",
      "34 88\n",
      "35 88\n",
      "36 88\n",
      "37 88\n",
      "38 88\n",
      "39 88\n",
      "40 88\n",
      "41 88\n",
      "42 88\n",
      "43 88\n",
      "44 88\n",
      "45 88\n",
      "46 88\n",
      "47 88\n",
      "48 88\n",
      "49 88\n",
      "50 88\n",
      "51 88\n",
      "52 88\n",
      "53 88\n",
      "54 88\n",
      "55 88\n",
      "56 88\n",
      "57 88\n",
      "58 88\n",
      "59 88\n",
      "60 88\n",
      "61 88\n",
      "62 88\n",
      "63 88\n",
      "64 88\n",
      "65 88\n",
      "66 88\n",
      "67 88\n",
      "68 88\n",
      "69 88\n",
      "70 88\n",
      "71 88\n",
      "72 88\n",
      "73 88\n",
      "74 88\n",
      "75 88\n",
      "76 88\n",
      "77 88\n",
      "78 88\n",
      "79 88\n",
      "80 88\n",
      "81 88\n",
      "82 88\n",
      "83 88\n",
      "84 88\n",
      "85 88\n",
      "86 88\n",
      "87 88\n"
     ]
    }
   ],
   "source": [
    "import warnings\n",
    "warnings.filterwarnings('ignore')\n",
    "from tqdm import tqdm\n",
    "def generate_train_columns(df, cols, y):\n",
    "    X = pd.DataFrame()\n",
    "    n = len(cols)\n",
    "    for i in range(n):\n",
    "        print(i, n)\n",
    "        col1 = cols[i]\n",
    "        # add isolated variable\n",
    "        if pearsonr(df[col1], y)[1] < 0.1:\n",
    "            X[col1] = df[col1]\n",
    "        for ii in range(i+1, n):\n",
    "            # add interaction variables\n",
    "            col2 = cols[ii]\n",
    "            if pearsonr(df[col1] - df[col2], y)[1] < 0.1:\n",
    "                X[f\"{col1} - {col2}\"] = df[col1] - df[col2]\n",
    "            if pearsonr(df[col1] + df[col2], y)[1] < 0.1:\n",
    "                X[f\"{col1} + {col2}\"] = df[col1] + df[col2]\n",
    "            if pearsonr(np.nan_to_num(df[col1] / df[col2], nan=0, posinf=999, neginf=-999), y)[1] < 0.1:\n",
    "                X[f\"{col1} / {col2}\"] = np.nan_to_num(df[col1] / df[col2], nan=0, posinf=999, neginf=-999)\n",
    "            if pearsonr(df[col1] * df[col2], y)[1] < 0.1:\n",
    "                X[f\"{col1} * {col2}\"] = df[col1] * df[col2]\n",
    "    return X\n",
    "\n",
    "train_cols = []\n",
    "for col in df.columns.tolist():\n",
    "    if (\"_\" in col or \"macd\" in col) and \"price\" not in col and \"revenue\" not in col:\n",
    "        train_cols.append(col)\n",
    "X = generate_train_columns(df, train_cols, df[\"1d\"])"
   ]
  },
  {
   "cell_type": "code",
   "execution_count": 9,
   "id": "679a2e6e-322b-4917-b0b1-f8e93fb9d8ba",
   "metadata": {},
   "outputs": [],
   "source": [
    "# defragment\n",
    "X = X.copy()"
   ]
  },
  {
   "cell_type": "code",
   "execution_count": 10,
   "id": "7573b126-60fd-4d20-82ce-f658cf608c3e",
   "metadata": {},
   "outputs": [
    {
     "data": {
      "text/plain": [
       "(64980, 3904)"
      ]
     },
     "execution_count": 10,
     "metadata": {},
     "output_type": "execute_result"
    }
   ],
   "source": [
    "X.shape"
   ]
  },
  {
   "cell_type": "code",
   "execution_count": null,
   "id": "6f812685-9441-4995-83e5-d70661ad71a5",
   "metadata": {},
   "outputs": [],
   "source": [
    "X.to_csv(\"data/X.csv\")"
   ]
  },
  {
   "cell_type": "code",
   "execution_count": 11,
   "id": "37b9f058-9d2d-40e2-8335-5ca2faea3504",
   "metadata": {},
   "outputs": [],
   "source": [
    "y = df[\"1d\"]\n",
    "X_train, X_test, y_train, y_test = train_test_split(X, y, test_size=0.20, random_state=57)"
   ]
  },
  {
   "cell_type": "code",
   "execution_count": 38,
   "id": "c0ccffde-6177-4b3d-a587-e7f0928e4f82",
   "metadata": {
    "scrolled": true
   },
   "outputs": [
    {
     "name": "stdout",
     "output_type": "stream",
     "text": [
      "|   iter    |  target   |   alpha   |  lambda   | learni... | max_depth | min_ch... | n_esti... |\n",
      "-------------------------------------------------------------------------------------------------\n",
      "[0]\tvalidation_0-rmse:0.06816\n",
      "[50]\tvalidation_0-rmse:0.06836\n",
      "[100]\tvalidation_0-rmse:0.06851\n",
      "[150]\tvalidation_0-rmse:0.06859\n",
      "[200]\tvalidation_0-rmse:0.06869\n",
      "[250]\tvalidation_0-rmse:0.06881\n",
      "[300]\tvalidation_0-rmse:0.06887\n",
      "[350]\tvalidation_0-rmse:0.06897\n",
      "[400]\tvalidation_0-rmse:0.06904\n",
      "[450]\tvalidation_0-rmse:0.06913\n",
      "[500]\tvalidation_0-rmse:0.06921\n",
      "[521]\tvalidation_0-rmse:0.06923\n",
      "| \u001b[0m1        \u001b[0m | \u001b[0m-0.06923 \u001b[0m | \u001b[0m21.75    \u001b[0m | \u001b[0m24.61    \u001b[0m | \u001b[0m0.4405   \u001b[0m | \u001b[0m2.622    \u001b[0m | \u001b[0m6.094e+03\u001b[0m | \u001b[0m522.5    \u001b[0m |\n",
      "[0]\tvalidation_0-rmse:0.06820\n",
      "[50]\tvalidation_0-rmse:0.06863\n",
      "[100]\tvalidation_0-rmse:0.06870\n",
      "[150]\tvalidation_0-rmse:0.06870\n",
      "[200]\tvalidation_0-rmse:0.06870\n",
      "[250]\tvalidation_0-rmse:0.06870\n",
      "[300]\tvalidation_0-rmse:0.06870\n",
      "[350]\tvalidation_0-rmse:0.06870\n",
      "[400]\tvalidation_0-rmse:0.06870\n",
      "[450]\tvalidation_0-rmse:0.06870\n",
      "[500]\tvalidation_0-rmse:0.06870\n",
      "[550]\tvalidation_0-rmse:0.06870\n",
      "[600]\tvalidation_0-rmse:0.06870\n",
      "[650]\tvalidation_0-rmse:0.06870\n",
      "[698]\tvalidation_0-rmse:0.06870\n",
      "| \u001b[95m2        \u001b[0m | \u001b[95m-0.0687  \u001b[0m | \u001b[95m36.14    \u001b[0m | \u001b[95m38.36    \u001b[0m | \u001b[95m0.546    \u001b[0m | \u001b[95m2.849    \u001b[0m | \u001b[95m1.646e+03\u001b[0m | \u001b[95m699.3    \u001b[0m |\n",
      "[0]\tvalidation_0-rmse:0.06825\n",
      "[50]\tvalidation_0-rmse:0.06905\n",
      "[100]\tvalidation_0-rmse:0.06962\n",
      "[150]\tvalidation_0-rmse:0.07006\n",
      "[200]\tvalidation_0-rmse:0.07003\n",
      "[250]\tvalidation_0-rmse:0.07003\n",
      "[300]\tvalidation_0-rmse:0.07003\n",
      "[350]\tvalidation_0-rmse:0.07003\n",
      "[400]\tvalidation_0-rmse:0.07003\n",
      "[450]\tvalidation_0-rmse:0.07003\n",
      "[500]\tvalidation_0-rmse:0.07003\n",
      "[550]\tvalidation_0-rmse:0.07003\n",
      "[600]\tvalidation_0-rmse:0.07003\n",
      "[650]\tvalidation_0-rmse:0.07003\n",
      "[700]\tvalidation_0-rmse:0.07003\n",
      "[704]\tvalidation_0-rmse:0.07003\n",
      "| \u001b[0m3        \u001b[0m | \u001b[0m-0.07003 \u001b[0m | \u001b[0m31.55    \u001b[0m | \u001b[0m32.4     \u001b[0m | \u001b[0m0.7173   \u001b[0m | \u001b[0m2.795    \u001b[0m | \u001b[0m1.644e+03\u001b[0m | \u001b[0m705.9    \u001b[0m |\n",
      "[0]\tvalidation_0-rmse:0.06816\n",
      "[50]\tvalidation_0-rmse:0.06820\n",
      "[100]\tvalidation_0-rmse:0.06820\n",
      "[150]\tvalidation_0-rmse:0.06820\n",
      "[200]\tvalidation_0-rmse:0.06820\n",
      "[250]\tvalidation_0-rmse:0.06820\n",
      "[300]\tvalidation_0-rmse:0.06820\n",
      "[350]\tvalidation_0-rmse:0.06820\n",
      "[400]\tvalidation_0-rmse:0.06820\n",
      "[450]\tvalidation_0-rmse:0.06820\n",
      "[500]\tvalidation_0-rmse:0.06820\n",
      "[550]\tvalidation_0-rmse:0.06820\n",
      "[600]\tvalidation_0-rmse:0.06820\n",
      "[650]\tvalidation_0-rmse:0.06820\n",
      "[700]\tvalidation_0-rmse:0.06820\n",
      "[727]\tvalidation_0-rmse:0.06820\n",
      "| \u001b[95m4        \u001b[0m | \u001b[95m-0.0682  \u001b[0m | \u001b[95m37.34    \u001b[0m | \u001b[95m20.53    \u001b[0m | \u001b[95m0.5238   \u001b[0m | \u001b[95m3.781    \u001b[0m | \u001b[95m9.389e+03\u001b[0m | \u001b[95m728.1    \u001b[0m |\n",
      "[0]\tvalidation_0-rmse:0.06816\n",
      "[50]\tvalidation_0-rmse:0.06819\n",
      "[100]\tvalidation_0-rmse:0.06819\n",
      "[150]\tvalidation_0-rmse:0.06819\n",
      "[200]\tvalidation_0-rmse:0.06819\n",
      "[250]\tvalidation_0-rmse:0.06819\n",
      "[300]\tvalidation_0-rmse:0.06819\n",
      "[350]\tvalidation_0-rmse:0.06819\n",
      "[400]\tvalidation_0-rmse:0.06819\n",
      "[407]\tvalidation_0-rmse:0.06819\n",
      "| \u001b[95m5        \u001b[0m | \u001b[95m-0.06819 \u001b[0m | \u001b[95m39.47    \u001b[0m | \u001b[95m32.88    \u001b[0m | \u001b[95m0.5355   \u001b[0m | \u001b[95m3.126    \u001b[0m | \u001b[95m9.05e+03 \u001b[0m | \u001b[95m408.4    \u001b[0m |\n",
      "[0]\tvalidation_0-rmse:0.06815\n",
      "[50]\tvalidation_0-rmse:0.06822\n",
      "[100]\tvalidation_0-rmse:0.06834\n",
      "[150]\tvalidation_0-rmse:0.06838\n",
      "[200]\tvalidation_0-rmse:0.06838\n",
      "[250]\tvalidation_0-rmse:0.06838\n",
      "[300]\tvalidation_0-rmse:0.06838\n",
      "[350]\tvalidation_0-rmse:0.06838\n",
      "[400]\tvalidation_0-rmse:0.06838\n",
      "[421]\tvalidation_0-rmse:0.06838\n",
      "| \u001b[0m6        \u001b[0m | \u001b[0m-0.06838 \u001b[0m | \u001b[0m35.74    \u001b[0m | \u001b[0m35.43    \u001b[0m | \u001b[0m0.1929   \u001b[0m | \u001b[0m2.283    \u001b[0m | \u001b[0m2.457e+03\u001b[0m | \u001b[0m422.8    \u001b[0m |\n",
      "[0]\tvalidation_0-rmse:0.06825\n",
      "[50]\tvalidation_0-rmse:0.06899\n",
      "[100]\tvalidation_0-rmse:0.06897\n",
      "[150]\tvalidation_0-rmse:0.06897\n",
      "[200]\tvalidation_0-rmse:0.06897\n",
      "[249]\tvalidation_0-rmse:0.06897\n",
      "| \u001b[0m7        \u001b[0m | \u001b[0m-0.06897 \u001b[0m | \u001b[0m36.83    \u001b[0m | \u001b[0m25.31    \u001b[0m | \u001b[0m0.7834   \u001b[0m | \u001b[0m3.455    \u001b[0m | \u001b[0m1.569e+03\u001b[0m | \u001b[0m250.3    \u001b[0m |\n",
      "=================================================================================================\n"
     ]
    }
   ],
   "source": [
    "# find optimal hyperparameters\n",
    "\n",
    "def test_hyperparameters(**hyper_parameters):\n",
    "    hyper_parameters[\"n_estimators\"] = int(hyper_parameters[\"n_estimators\"])\n",
    "    hyper_parameters[\"max_depth\"] = int(hyper_parameters[\"max_depth\"])\n",
    "    xgbc = XGBRegressor(**hyper_parameters, objective=\"reg:squarederror\")\n",
    "    xgbc.fit(X_train, y_train, eval_set=[(X_test, y_test)], verbose=50)\n",
    "    return -xgbc.evals_result()[\"validation_0\"][\"rmse\"][-1]\n",
    "    \n",
    "\n",
    "pbounds = {\n",
    "    \"max_depth\": (2, 4),\n",
    "    \"min_child_weight\": (1000, 10000),\n",
    "    \"lambda\": (20, 40),\n",
    "    \"alpha\": (20, 40),\n",
    "    \"n_estimators\": (250, 750),\n",
    "    \"learning_rate\": (0.05, 1)\n",
    "}\n",
    "\n",
    "optimizer = BayesianOptimization(\n",
    "    test_hyperparameters,\n",
    "    pbounds=pbounds,\n",
    "    verbose=2,\n",
    "    random_state=57,\n",
    ")\n",
    "\n",
    "optimizer.maximize(\n",
    "    init_points=2,\n",
    "    n_iter=5,\n",
    ")"
   ]
  },
  {
   "cell_type": "code",
   "execution_count": 39,
   "id": "63a6a8db-51ea-4c47-ad9d-4941230c7686",
   "metadata": {},
   "outputs": [
    {
     "data": {
      "text/plain": [
       "{'alpha': 39.47000721853682,\n",
       " 'lambda': 32.87974117363731,\n",
       " 'learning_rate': 0.5354629588751129,\n",
       " 'max_depth': 3.1259731214304907,\n",
       " 'min_child_weight': 9050.419395548906,\n",
       " 'n_estimators': 408.4267258814882}"
      ]
     },
     "execution_count": 39,
     "metadata": {},
     "output_type": "execute_result"
    }
   ],
   "source": [
    "optimizer.max[\"params\"]"
   ]
  },
  {
   "cell_type": "code",
   "execution_count": 40,
   "id": "03520e45-84f7-4da6-be76-dee7424097b1",
   "metadata": {},
   "outputs": [
    {
     "name": "stdout",
     "output_type": "stream",
     "text": [
      "[0]\tvalidation_0-rmse:0.06816\n",
      "[50]\tvalidation_0-rmse:0.06819\n",
      "[100]\tvalidation_0-rmse:0.06819\n",
      "[150]\tvalidation_0-rmse:0.06819\n",
      "[200]\tvalidation_0-rmse:0.06819\n",
      "[250]\tvalidation_0-rmse:0.06819\n",
      "[300]\tvalidation_0-rmse:0.06819\n",
      "[350]\tvalidation_0-rmse:0.06819\n",
      "[400]\tvalidation_0-rmse:0.06819\n",
      "[407]\tvalidation_0-rmse:0.06819\n"
     ]
    },
    {
     "data": {
      "text/html": [
       "<style>#sk-container-id-3 {color: black;background-color: white;}#sk-container-id-3 pre{padding: 0;}#sk-container-id-3 div.sk-toggleable {background-color: white;}#sk-container-id-3 label.sk-toggleable__label {cursor: pointer;display: block;width: 100%;margin-bottom: 0;padding: 0.3em;box-sizing: border-box;text-align: center;}#sk-container-id-3 label.sk-toggleable__label-arrow:before {content: \"▸\";float: left;margin-right: 0.25em;color: #696969;}#sk-container-id-3 label.sk-toggleable__label-arrow:hover:before {color: black;}#sk-container-id-3 div.sk-estimator:hover label.sk-toggleable__label-arrow:before {color: black;}#sk-container-id-3 div.sk-toggleable__content {max-height: 0;max-width: 0;overflow: hidden;text-align: left;background-color: #f0f8ff;}#sk-container-id-3 div.sk-toggleable__content pre {margin: 0.2em;color: black;border-radius: 0.25em;background-color: #f0f8ff;}#sk-container-id-3 input.sk-toggleable__control:checked~div.sk-toggleable__content {max-height: 200px;max-width: 100%;overflow: auto;}#sk-container-id-3 input.sk-toggleable__control:checked~label.sk-toggleable__label-arrow:before {content: \"▾\";}#sk-container-id-3 div.sk-estimator input.sk-toggleable__control:checked~label.sk-toggleable__label {background-color: #d4ebff;}#sk-container-id-3 div.sk-label input.sk-toggleable__control:checked~label.sk-toggleable__label {background-color: #d4ebff;}#sk-container-id-3 input.sk-hidden--visually {border: 0;clip: rect(1px 1px 1px 1px);clip: rect(1px, 1px, 1px, 1px);height: 1px;margin: -1px;overflow: hidden;padding: 0;position: absolute;width: 1px;}#sk-container-id-3 div.sk-estimator {font-family: monospace;background-color: #f0f8ff;border: 1px dotted black;border-radius: 0.25em;box-sizing: border-box;margin-bottom: 0.5em;}#sk-container-id-3 div.sk-estimator:hover {background-color: #d4ebff;}#sk-container-id-3 div.sk-parallel-item::after {content: \"\";width: 100%;border-bottom: 1px solid gray;flex-grow: 1;}#sk-container-id-3 div.sk-label:hover label.sk-toggleable__label {background-color: #d4ebff;}#sk-container-id-3 div.sk-serial::before {content: \"\";position: absolute;border-left: 1px solid gray;box-sizing: border-box;top: 0;bottom: 0;left: 50%;z-index: 0;}#sk-container-id-3 div.sk-serial {display: flex;flex-direction: column;align-items: center;background-color: white;padding-right: 0.2em;padding-left: 0.2em;position: relative;}#sk-container-id-3 div.sk-item {position: relative;z-index: 1;}#sk-container-id-3 div.sk-parallel {display: flex;align-items: stretch;justify-content: center;background-color: white;position: relative;}#sk-container-id-3 div.sk-item::before, #sk-container-id-3 div.sk-parallel-item::before {content: \"\";position: absolute;border-left: 1px solid gray;box-sizing: border-box;top: 0;bottom: 0;left: 50%;z-index: -1;}#sk-container-id-3 div.sk-parallel-item {display: flex;flex-direction: column;z-index: 1;position: relative;background-color: white;}#sk-container-id-3 div.sk-parallel-item:first-child::after {align-self: flex-end;width: 50%;}#sk-container-id-3 div.sk-parallel-item:last-child::after {align-self: flex-start;width: 50%;}#sk-container-id-3 div.sk-parallel-item:only-child::after {width: 0;}#sk-container-id-3 div.sk-dashed-wrapped {border: 1px dashed gray;margin: 0 0.4em 0.5em 0.4em;box-sizing: border-box;padding-bottom: 0.4em;background-color: white;}#sk-container-id-3 div.sk-label label {font-family: monospace;font-weight: bold;display: inline-block;line-height: 1.2em;}#sk-container-id-3 div.sk-label-container {text-align: center;}#sk-container-id-3 div.sk-container {/* jupyter's `normalize.less` sets `[hidden] { display: none; }` but bootstrap.min.css set `[hidden] { display: none !important; }` so we also need the `!important` here to be able to override the default hidden behavior on the sphinx rendered scikit-learn.org. See: https://github.com/scikit-learn/scikit-learn/issues/21755 */display: inline-block !important;position: relative;}#sk-container-id-3 div.sk-text-repr-fallback {display: none;}</style><div id=\"sk-container-id-3\" class=\"sk-top-container\"><div class=\"sk-text-repr-fallback\"><pre>XGBRegressor(alpha=39.47000721853682, base_score=None, booster=None,\n",
       "             callbacks=None, colsample_bylevel=None, colsample_bynode=None,\n",
       "             colsample_bytree=None, device=None, early_stopping_rounds=None,\n",
       "             enable_categorical=False, eval_metric=None, feature_types=None,\n",
       "             gamma=None, grow_policy=None, importance_type=None,\n",
       "             interaction_constraints=None, lambda=32.87974117363731,\n",
       "             learning_rate=0.5354629588751129, max_bin=None,\n",
       "             max_cat_threshold=None, max_cat_to_onehot=None,\n",
       "             max_delta_step=None, max_depth=3, max_leaves=None,\n",
       "             min_child_weight=9050.419395548906, missing=nan,\n",
       "             monotone_constraints=None, multi_strategy=None, n_estimators=408,\n",
       "             n_jobs=None, ...)</pre><b>In a Jupyter environment, please rerun this cell to show the HTML representation or trust the notebook. <br />On GitHub, the HTML representation is unable to render, please try loading this page with nbviewer.org.</b></div><div class=\"sk-container\" hidden><div class=\"sk-item\"><div class=\"sk-estimator sk-toggleable\"><input class=\"sk-toggleable__control sk-hidden--visually\" id=\"sk-estimator-id-3\" type=\"checkbox\" checked><label for=\"sk-estimator-id-3\" class=\"sk-toggleable__label sk-toggleable__label-arrow\">XGBRegressor</label><div class=\"sk-toggleable__content\"><pre>XGBRegressor(alpha=39.47000721853682, base_score=None, booster=None,\n",
       "             callbacks=None, colsample_bylevel=None, colsample_bynode=None,\n",
       "             colsample_bytree=None, device=None, early_stopping_rounds=None,\n",
       "             enable_categorical=False, eval_metric=None, feature_types=None,\n",
       "             gamma=None, grow_policy=None, importance_type=None,\n",
       "             interaction_constraints=None, lambda=32.87974117363731,\n",
       "             learning_rate=0.5354629588751129, max_bin=None,\n",
       "             max_cat_threshold=None, max_cat_to_onehot=None,\n",
       "             max_delta_step=None, max_depth=3, max_leaves=None,\n",
       "             min_child_weight=9050.419395548906, missing=nan,\n",
       "             monotone_constraints=None, multi_strategy=None, n_estimators=408,\n",
       "             n_jobs=None, ...)</pre></div></div></div></div></div>"
      ],
      "text/plain": [
       "XGBRegressor(alpha=39.47000721853682, base_score=None, booster=None,\n",
       "             callbacks=None, colsample_bylevel=None, colsample_bynode=None,\n",
       "             colsample_bytree=None, device=None, early_stopping_rounds=None,\n",
       "             enable_categorical=False, eval_metric=None, feature_types=None,\n",
       "             gamma=None, grow_policy=None, importance_type=None,\n",
       "             interaction_constraints=None, lambda=32.87974117363731,\n",
       "             learning_rate=0.5354629588751129, max_bin=None,\n",
       "             max_cat_threshold=None, max_cat_to_onehot=None,\n",
       "             max_delta_step=None, max_depth=3, max_leaves=None,\n",
       "             min_child_weight=9050.419395548906, missing=nan,\n",
       "             monotone_constraints=None, multi_strategy=None, n_estimators=408,\n",
       "             n_jobs=None, ...)"
      ]
     },
     "execution_count": 40,
     "metadata": {},
     "output_type": "execute_result"
    }
   ],
   "source": [
    "best_hyperparameters = optimizer.max[\"params\"]\n",
    "best_hyperparameters[\"n_estimators\"] = int(best_hyperparameters[\"n_estimators\"])\n",
    "best_hyperparameters[\"max_depth\"] = int(best_hyperparameters[\"max_depth\"])\n",
    "xgbc = XGBRegressor(**best_hyperparameters, objective=\"reg:squarederror\")\n",
    "xgbc.fit(X_train, y_train, eval_set=[(X_test, y_test)], verbose=50)"
   ]
  },
  {
   "cell_type": "code",
   "execution_count": 60,
   "id": "08f56506-7db2-4fec-ab99-003fd574aec5",
   "metadata": {},
   "outputs": [
    {
     "data": {
      "text/plain": [
       "min       2.267283e-08\n",
       "median    1.210347e-02\n",
       "mean      2.292000e-02\n",
       "max       5.670344e+00\n",
       "dtype: float64"
      ]
     },
     "execution_count": 60,
     "metadata": {},
     "output_type": "execute_result"
    }
   ],
   "source": [
    "predictions = xgbc.predict(X_test)\n",
    "display_df = pd.DataFrame()\n",
    "display_df[\"predictions\"] = predictions\n",
    "display_df[\"actual\"] = y_test.tolist()\n",
    "display_df = display_df.sort_values(by='predictions', ascending=True)\n",
    "display_df = display_df.reset_index()\n",
    "\n",
    "diff = abs(display_df.predictions - display_df.actual)\n",
    "diff.agg([\"min\", \"median\", \"mean\", \"max\"])"
   ]
  },
  {
   "cell_type": "code",
   "execution_count": 61,
   "id": "c88be9a1-5600-4fcc-832c-d310e0c444c2",
   "metadata": {},
   "outputs": [
    {
     "data": {
      "image/png": "[encoded data removed]",
      "text/plain": [
       "<Figure size 640x480 with 1 Axes>"
      ]
     },
     "metadata": {},
     "output_type": "display_data"
    }
   ],
   "source": [
    "plt.plot(display_df.index.tolist(), display_df.predictions.tolist(), color=\"red\", linewidth=1)\n",
    "plt.scatter(display_df.index.tolist(), display_df.actual.tolist())\n",
    "plt.show()"
   ]
  },
  {
   "cell_type": "code",
   "execution_count": 62,
   "id": "4ee36048-972c-45bb-be53-2d88a8d82142",
   "metadata": {},
   "outputs": [
    {
     "data": {
      "image/png": "[encoded data removed]",
      "text/plain": [
       "<Figure size 640x480 with 1 Axes>"
      ]
     },
     "metadata": {},
     "output_type": "display_data"
    }
   ],
   "source": [
    "plt.scatter(display_df.predictions.tolist(), display_df.actual.tolist())\n",
    "plt.plot(display_df.predictions.tolist(), display_df.predictions.tolist(), color=\"red\")\n",
    "plt.ylim(-1, 1)\n",
    "plt.show()"
   ]
  },
  {
   "cell_type": "code",
   "execution_count": 64,
   "id": "a062d6ba-6773-451a-9ddf-de2a5fd3e251",
   "metadata": {},
   "outputs": [
    {
     "data": {
      "text/html": [
       "<div>\n",
       "<style scoped>\n",
       "    .dataframe tbody tr th:only-of-type {\n",
       "        vertical-align: middle;\n",
       "    }\n",
       "\n",
       "    .dataframe tbody tr th {\n",
       "        vertical-align: top;\n",
       "    }\n",
       "\n",
       "    .dataframe thead th {\n",
       "        text-align: right;\n",
       "    }\n",
       "</style>\n",
       "<table border=\"1\" class=\"dataframe\">\n",
       "  <thead>\n",
       "    <tr style=\"text-align: right;\">\n",
       "      <th></th>\n",
       "      <th>predictions</th>\n",
       "      <th>Actual</th>\n",
       "      <th>W/L</th>\n",
       "    </tr>\n",
       "  </thead>\n",
       "  <tbody>\n",
       "    <tr>\n",
       "      <th>0</th>\n",
       "      <td>[-0.012792, -0.003796)</td>\n",
       "      <td>-0.001528</td>\n",
       "      <td>0.481538</td>\n",
       "    </tr>\n",
       "    <tr>\n",
       "      <th>1</th>\n",
       "      <td>[-0.003796, -0.00245)</td>\n",
       "      <td>0.000024</td>\n",
       "      <td>0.494615</td>\n",
       "    </tr>\n",
       "    <tr>\n",
       "      <th>2</th>\n",
       "      <td>[-0.00245, -0.001527)</td>\n",
       "      <td>-0.000710</td>\n",
       "      <td>0.511932</td>\n",
       "    </tr>\n",
       "    <tr>\n",
       "      <th>3</th>\n",
       "      <td>[-0.001527, -0.000632)</td>\n",
       "      <td>0.000153</td>\n",
       "      <td>0.524653</td>\n",
       "    </tr>\n",
       "    <tr>\n",
       "      <th>4</th>\n",
       "      <td>[-0.000632, 0.000326)</td>\n",
       "      <td>-0.000919</td>\n",
       "      <td>0.525749</td>\n",
       "    </tr>\n",
       "    <tr>\n",
       "      <th>5</th>\n",
       "      <td>[0.000326, 0.001384)</td>\n",
       "      <td>0.001124</td>\n",
       "      <td>0.529638</td>\n",
       "    </tr>\n",
       "    <tr>\n",
       "      <th>6</th>\n",
       "      <td>[0.001384, 0.002724)</td>\n",
       "      <td>-0.000796</td>\n",
       "      <td>0.518462</td>\n",
       "    </tr>\n",
       "    <tr>\n",
       "      <th>7</th>\n",
       "      <td>[0.002724, 0.004536)</td>\n",
       "      <td>-0.000072</td>\n",
       "      <td>0.550769</td>\n",
       "    </tr>\n",
       "    <tr>\n",
       "      <th>8</th>\n",
       "      <td>[0.004536, 0.007561)</td>\n",
       "      <td>0.000410</td>\n",
       "      <td>0.526559</td>\n",
       "    </tr>\n",
       "    <tr>\n",
       "      <th>9</th>\n",
       "      <td>[0.007561, 0.034897]</td>\n",
       "      <td>0.006729</td>\n",
       "      <td>0.623846</td>\n",
       "    </tr>\n",
       "  </tbody>\n",
       "</table>\n",
       "</div>"
      ],
      "text/plain": [
       "              predictions    Actual       W/L\n",
       "0  [-0.012792, -0.003796) -0.001528  0.481538\n",
       "1   [-0.003796, -0.00245)  0.000024  0.494615\n",
       "2   [-0.00245, -0.001527) -0.000710  0.511932\n",
       "3  [-0.001527, -0.000632)  0.000153  0.524653\n",
       "4   [-0.000632, 0.000326) -0.000919  0.525749\n",
       "5    [0.000326, 0.001384)  0.001124  0.529638\n",
       "6    [0.001384, 0.002724) -0.000796  0.518462\n",
       "7    [0.002724, 0.004536) -0.000072  0.550769\n",
       "8    [0.004536, 0.007561)  0.000410  0.526559\n",
       "9    [0.007561, 0.034897]  0.006729  0.623846"
      ]
     },
     "execution_count": 64,
     "metadata": {},
     "output_type": "execute_result"
    }
   ],
   "source": [
    "def cross_with_actual(df, other_column, num_cuts):\n",
    "    percentiles = []\n",
    "    for i in range(num_cuts):\n",
    "        next_percentile = round(np.nanpercentile(df[other_column], i*100/(num_cuts)), 6)\n",
    "        if next_percentile not in percentiles:\n",
    "            percentiles.append(next_percentile)\n",
    "    percentiles.append(round(max(df[other_column]), 6))\n",
    "\n",
    "    formatted_ranges, mean_salaries, wins = [], [], []\n",
    "    for i in range(1, len(percentiles)):\n",
    "        if i != len(percentiles)-1:\n",
    "            formatted_ranges.append(f\"[{percentiles[i-1]}, {percentiles[i]})\")\n",
    "            mean_salaries.append(round(df[(df[other_column] >= percentiles[i-1]) & (df[other_column] < percentiles[i])].actual.mean(), 6))\n",
    "            wins.append(round((df[(df[other_column] >= percentiles[i-1]) & (df[other_column] < percentiles[i])].actual >= 0).mean(), 6))\n",
    "        else:\n",
    "            formatted_ranges.append(f\"[{percentiles[i-1]}, {percentiles[i]}]\")\n",
    "            mean_salaries.append(round(df[(df[other_column] >= percentiles[i-1]) & (df[other_column] <= percentiles[i])].actual.mean(), 6))\n",
    "            wins.append(round((df[(df[other_column] >= percentiles[i-1]) & (df[other_column] < percentiles[i])].actual >= 0).mean(), 6))\n",
    "    \n",
    "    display_df = pd.DataFrame()\n",
    "    display_df[other_column] = formatted_ranges\n",
    "    display_df[\"Actual\"] = mean_salaries\n",
    "    display_df[\"W/L\"] = wins\n",
    "    return display_df\n",
    "cross_with_actual(display_df, \"predictions\", 10)"
   ]
  },
  {
   "cell_type": "code",
   "execution_count": null,
   "id": "a7651330-9098-44ed-84dd-856d857954d1",
   "metadata": {},
   "outputs": [],
   "source": [
    "print(display_df[display_df.predictions < 0].actual.agg([\"count\", \"mean\", \"median\"]))\n",
    "print()\n",
    "print(display_df[display_df.predictions > 0].actual.agg([\"count\", \"mean\", \"median\"]))"
   ]
  },
  {
   "cell_type": "code",
   "execution_count": 58,
   "id": "7b023af9-7afd-4fe8-be8d-1b0f6f055930",
   "metadata": {},
   "outputs": [
    {
     "data": {
      "text/plain": [
       "0.024091813473694053"
      ]
     },
     "execution_count": 58,
     "metadata": {},
     "output_type": "execute_result"
    }
   ],
   "source": [
    "np.mean(errors)"
   ]
  },
  {
   "cell_type": "code",
   "execution_count": 55,
   "id": "474d82c3-e44e-4c46-8db2-3a4ab9433c89",
   "metadata": {},
   "outputs": [
    {
     "name": "stdout",
     "output_type": "stream",
     "text": [
      "0.030435381277514308\n"
     ]
    }
   ],
   "source": [
    "errors = abs(display_df.predictions - display_df.actual).tolist()\n",
    "errors.sort()\n",
    "ind = int(len(errors)*0.8)\n",
    "print(errors[ind])"
   ]
  },
  {
   "cell_type": "code",
   "execution_count": null,
   "id": "a2146bbe-a630-4d7b-9dff-5275a9ad7d7b",
   "metadata": {},
   "outputs": [],
   "source": [
    "importances = xgbc.feature_importances_\n",
    "feature_names = X_train.columns\n",
    "feature_importances = pd.DataFrame({\"Feature\": feature_names, \"Importance\": importances})\n",
    "feature_importances = feature_importances.sort_values(by=\"Importance\", ascending=False)\n",
    "final_features = feature_importances.Feature.tolist()[:700]"
   ]
  },
  {
   "cell_type": "code",
   "execution_count": null,
   "id": "187a72d0-38f4-41bd-b00a-6954466c80cb",
   "metadata": {},
   "outputs": [],
   "source": [
    "final_X_train, final_X_test = X_train[final_features], X_test[final_features]\n",
    "xgbc_final = XGBRegressor(objective=\"reg:squarederror\")\n",
    "xgbc_final.fit(final_X_train, y_train, eval_set=[(final_X_test, y_test)], verbose=50)"
   ]
  },
  {
   "cell_type": "code",
   "execution_count": null,
   "id": "3127c529-a5d8-4f12-9e0d-3e06f15b150c",
   "metadata": {},
   "outputs": [],
   "source": []
  }
 ],
 "metadata": {
  "kernelspec": {
   "display_name": "Python 3 (ipykernel)",
   "language": "python",
   "name": "python3"
  },
  "language_info": {
   "codemirror_mode": {
    "name": "ipython",
    "version": 3
   },
   "file_extension": ".py",
   "mimetype": "text/x-python",
   "name": "python",
   "nbconvert_exporter": "python",
   "pygments_lexer": "ipython3",
   "version": "3.9.13"
  }
 },
 "nbformat": 4,
 "nbformat_minor": 5
}
