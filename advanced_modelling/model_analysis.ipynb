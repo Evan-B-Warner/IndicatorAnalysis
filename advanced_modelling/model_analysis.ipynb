{
 "cells": [
  {
   "cell_type": "code",
   "execution_count": 1,
   "id": "05bd9546-13fa-4bae-b39b-fdf37aba23a5",
   "metadata": {},
   "outputs": [],
   "source": [
    "import json\n",
    "import keras\n",
    "from keras.layers import Dense, Dropout, Activation, Flatten, Conv2D, MaxPooling2D\n",
    "from keras.models import Sequential\n",
    "import matplotlib.pyplot as plt\n",
    "import pandas as pd\n",
    "import numpy as np\n",
    "from scipy.stats import pearsonr\n",
    "from sklearn.linear_model import LinearRegression\n",
    "from training_data_generation import model_ready_data"
   ]
  },
  {
   "cell_type": "markdown",
   "id": "48dbc002-ea55-4dcf-a662-96628a11830d",
   "metadata": {},
   "source": [
    "# Data Analysis"
   ]
  },
  {
   "cell_type": "code",
   "execution_count": 31,
   "id": "e412b495-ba19-4567-b761-4162803c1f22",
   "metadata": {},
   "outputs": [],
   "source": [
    "X = pd.read_csv(\"data/X.csv\")\n",
    "y = pd.read_csv(\"data/y.csv\")"
   ]
  },
  {
   "cell_type": "code",
   "execution_count": 32,
   "id": "f71ce7d6-8e89-473a-9c5b-473077faa9f4",
   "metadata": {},
   "outputs": [
    {
     "data": {
      "text/plain": [
       "(69820, 94)"
      ]
     },
     "execution_count": 32,
     "metadata": {},
     "output_type": "execute_result"
    }
   ],
   "source": [
    "df = X.join(y)\n",
    "df.shape"
   ]
  },
  {
   "cell_type": "code",
   "execution_count": 33,
   "id": "aae5b296-f484-4798-b68a-2f7c2628c8cb",
   "metadata": {},
   "outputs": [
    {
     "data": {
      "text/plain": [
       "array(['rsi_5', 'rsi_5-1', 'rsi_5-5', 'rsi_5-20', 'rsi_14', 'rsi_14-1',\n",
       "       'rsi_14-5', 'rsi_14-20', 'rsi_30', 'rsi_30-1', 'rsi_30-5',\n",
       "       'rsi_30-20', 'ma_5', 'ma_5-1', 'ma_5-5', 'ma_5-20', 'ma_20',\n",
       "       'ma_20-1', 'ma_20-5', 'ma_20-20', 'ma_50', 'ma_50-1', 'ma_50-5',\n",
       "       'ma_50-20', 'ma_100', 'ma_100-1', 'ma_100-5', 'ma_100-20', 'ema_5',\n",
       "       'ema_5-1', 'ema_5-5', 'ema_5-20', 'ema_20', 'ema_20-1', 'ema_20-5',\n",
       "       'ema_20-20', 'ema_50', 'ema_50-1', 'ema_50-5', 'ema_50-20',\n",
       "       'ema_100', 'ema_100-1', 'ema_100-5', 'ema_100-20', 'macd',\n",
       "       'macd-1', 'macd-5', 'macd-20', 'macd_signal', 'macd_signal-1',\n",
       "       'macd_signal-5', 'macd_signal-20', 'so_5', 'so_5-1', 'so_5-5',\n",
       "       'so_5-20', 'so_14', 'so_14-1', 'so_14-5', 'so_14-20', 'so_30',\n",
       "       'so_30-1', 'so_30-5', 'so_30-20', 'atr_5', 'atr_5-1', 'atr_5-5',\n",
       "       'atr_5-20', 'atr_14', 'atr_14-1', 'atr_14-5', 'atr_14-20',\n",
       "       'atr_30', 'atr_30-1', 'atr_30-5', 'atr_30-20', 'adx_5', 'adx_5-1',\n",
       "       'adx_5-5', 'adx_5-20', 'adx_14', 'adx_14-1', 'adx_14-5',\n",
       "       'adx_14-20', 'adx_30', 'adx_30-1', 'adx_30-5', 'adx_30-20', 'date',\n",
       "       'total_revenue', 'revenue_per_share'], dtype=object)"
      ]
     },
     "execution_count": 33,
     "metadata": {},
     "output_type": "execute_result"
    }
   ],
   "source": [
    "X.columns.values"
   ]
  },
  {
   "cell_type": "code",
   "execution_count": 84,
   "id": "d7dcca28-632a-4b61-a1e3-400cb2a6e3fb",
   "metadata": {},
   "outputs": [
    {
     "name": "stdout",
     "output_type": "stream",
     "text": [
      "0.0016621931360238627\n",
      "0.08680567959150588 [-15.22037646]\n"
     ]
    },
    {
     "data": {
      "image/png": "[encoded data removed]",
      "text/plain": [
       "<Figure size 640x480 with 1 Axes>"
      ]
     },
     "metadata": {},
     "output_type": "display_data"
    }
   ],
   "source": [
    "col = \"macd\"\n",
    "resp = \"5d\"\n",
    "temp = df.sort_values(by=col)\n",
    "\n",
    "_, p = pearsonr(temp[col], temp[resp])\n",
    "print(p)\n",
    "\n",
    "lm = LinearRegression()\n",
    "lm_x = np.expand_dims(np.array(temp[col].tolist()), axis=1)\n",
    "lm.fit(lm_x, temp[resp])\n",
    "lm_preds = lm.predict(lm_x)\n",
    "print(lm.intercept_, lm.coef_*(temp[col].max() - temp[col].min()))\n",
    "\n",
    "plt.plot(temp[col], temp[resp], \"bo\")\n",
    "plt.plot(temp[col], lm_preds, \"r\")\n",
    "plt.xlabel(col)\n",
    "plt.ylabel(resp + \" % Change\")\n",
    "\n",
    "plt.ylim(-100, 100)\n",
    "plt.show()"
   ]
  },
  {
   "cell_type": "code",
   "execution_count": 67,
   "id": "996a2ca0-ac50-41a7-be0e-c65689a40c45",
   "metadata": {},
   "outputs": [
    {
     "name": "stdout",
     "output_type": "stream",
     "text": [
      "0.0016621931360238627\n",
      "0.01263682334512693\n",
      "0.017713116211973728\n"
     ]
    },
    {
     "ename": "ValueError",
     "evalue": "array must not contain infs or NaNs",
     "output_type": "error",
     "traceback": [
      "\u001b[1;31m---------------------------------------------------------------------------\u001b[0m",
      "\u001b[1;31mValueError\u001b[0m                                Traceback (most recent call last)",
      "Cell \u001b[1;32mIn[67], line 8\u001b[0m\n\u001b[0;32m      6\u001b[0m _, p \u001b[38;5;241m=\u001b[39m pearsonr(temp[col1] \u001b[38;5;241m-\u001b[39m temp[col2], temp[resp])\n\u001b[0;32m      7\u001b[0m \u001b[38;5;28mprint\u001b[39m(p)\n\u001b[1;32m----> 8\u001b[0m _, p \u001b[38;5;241m=\u001b[39m \u001b[43mpearsonr\u001b[49m\u001b[43m(\u001b[49m\u001b[43mtemp\u001b[49m\u001b[43m[\u001b[49m\u001b[43mcol1\u001b[49m\u001b[43m]\u001b[49m\u001b[38;5;241;43m/\u001b[39;49m\u001b[43mtemp\u001b[49m\u001b[43m[\u001b[49m\u001b[43mcol2\u001b[49m\u001b[43m]\u001b[49m\u001b[43m,\u001b[49m\u001b[43m \u001b[49m\u001b[43mtemp\u001b[49m\u001b[43m[\u001b[49m\u001b[43mresp\u001b[49m\u001b[43m]\u001b[49m\u001b[43m)\u001b[49m\n\u001b[0;32m      9\u001b[0m \u001b[38;5;28mprint\u001b[39m(p)\n",
      "File \u001b[1;32m~\\AppData\\Local\\Packages\\PythonSoftwareFoundation.Python.3.9_qbz5n2kfra8p0\\LocalCache\\local-packages\\Python39\\site-packages\\scipy\\stats\\_stats_py.py:4090\u001b[0m, in \u001b[0;36mpearsonr\u001b[1;34m(x, y)\u001b[0m\n\u001b[0;32m   4085\u001b[0m ym \u001b[38;5;241m=\u001b[39m y\u001b[38;5;241m.\u001b[39mastype(dtype) \u001b[38;5;241m-\u001b[39m ymean\n\u001b[0;32m   4087\u001b[0m \u001b[38;5;66;03m# Unlike np.linalg.norm or the expression sqrt((xm*xm).sum()),\u001b[39;00m\n\u001b[0;32m   4088\u001b[0m \u001b[38;5;66;03m# scipy.linalg.norm(xm) does not overflow if xm is, for example,\u001b[39;00m\n\u001b[0;32m   4089\u001b[0m \u001b[38;5;66;03m# [-5e210, 5e210, 3e200, -3e200]\u001b[39;00m\n\u001b[1;32m-> 4090\u001b[0m normxm \u001b[38;5;241m=\u001b[39m \u001b[43mlinalg\u001b[49m\u001b[38;5;241;43m.\u001b[39;49m\u001b[43mnorm\u001b[49m\u001b[43m(\u001b[49m\u001b[43mxm\u001b[49m\u001b[43m)\u001b[49m\n\u001b[0;32m   4091\u001b[0m normym \u001b[38;5;241m=\u001b[39m linalg\u001b[38;5;241m.\u001b[39mnorm(ym)\n\u001b[0;32m   4093\u001b[0m threshold \u001b[38;5;241m=\u001b[39m \u001b[38;5;241m1e-13\u001b[39m\n",
      "File \u001b[1;32m~\\AppData\\Local\\Packages\\PythonSoftwareFoundation.Python.3.9_qbz5n2kfra8p0\\LocalCache\\local-packages\\Python39\\site-packages\\scipy\\linalg\\_misc.py:145\u001b[0m, in \u001b[0;36mnorm\u001b[1;34m(a, ord, axis, keepdims, check_finite)\u001b[0m\n\u001b[0;32m    143\u001b[0m \u001b[38;5;66;03m# Differs from numpy only in non-finite handling and the use of blas.\u001b[39;00m\n\u001b[0;32m    144\u001b[0m \u001b[38;5;28;01mif\u001b[39;00m check_finite:\n\u001b[1;32m--> 145\u001b[0m     a \u001b[38;5;241m=\u001b[39m \u001b[43mnp\u001b[49m\u001b[38;5;241;43m.\u001b[39;49m\u001b[43masarray_chkfinite\u001b[49m\u001b[43m(\u001b[49m\u001b[43ma\u001b[49m\u001b[43m)\u001b[49m\n\u001b[0;32m    146\u001b[0m \u001b[38;5;28;01melse\u001b[39;00m:\n\u001b[0;32m    147\u001b[0m     a \u001b[38;5;241m=\u001b[39m np\u001b[38;5;241m.\u001b[39masarray(a)\n",
      "File \u001b[1;32m~\\AppData\\Local\\Packages\\PythonSoftwareFoundation.Python.3.9_qbz5n2kfra8p0\\LocalCache\\local-packages\\Python39\\site-packages\\numpy\\lib\\function_base.py:603\u001b[0m, in \u001b[0;36masarray_chkfinite\u001b[1;34m(a, dtype, order)\u001b[0m\n\u001b[0;32m    601\u001b[0m a \u001b[38;5;241m=\u001b[39m asarray(a, dtype\u001b[38;5;241m=\u001b[39mdtype, order\u001b[38;5;241m=\u001b[39morder)\n\u001b[0;32m    602\u001b[0m \u001b[38;5;28;01mif\u001b[39;00m a\u001b[38;5;241m.\u001b[39mdtype\u001b[38;5;241m.\u001b[39mchar \u001b[38;5;129;01min\u001b[39;00m typecodes[\u001b[38;5;124m'\u001b[39m\u001b[38;5;124mAllFloat\u001b[39m\u001b[38;5;124m'\u001b[39m] \u001b[38;5;129;01mand\u001b[39;00m \u001b[38;5;129;01mnot\u001b[39;00m np\u001b[38;5;241m.\u001b[39misfinite(a)\u001b[38;5;241m.\u001b[39mall():\n\u001b[1;32m--> 603\u001b[0m     \u001b[38;5;28;01mraise\u001b[39;00m \u001b[38;5;167;01mValueError\u001b[39;00m(\n\u001b[0;32m    604\u001b[0m         \u001b[38;5;124m\"\u001b[39m\u001b[38;5;124marray must not contain infs or NaNs\u001b[39m\u001b[38;5;124m\"\u001b[39m)\n\u001b[0;32m    605\u001b[0m \u001b[38;5;28;01mreturn\u001b[39;00m a\n",
      "\u001b[1;31mValueError\u001b[0m: array must not contain infs or NaNs"
     ]
    }
   ],
   "source": [
    "col1, col2 = \"macd\", \"macd-5\"\n",
    "_, p = pearsonr(temp[col1], temp[resp])\n",
    "print(p)\n",
    "_, p = pearsonr(temp[col2], temp[resp])\n",
    "print(p)\n",
    "_, p = pearsonr(temp[col1] - temp[col2], temp[resp])\n",
    "print(p)\n",
    "_, p = pearsonr(temp[col1]/temp[col2], temp[resp])\n",
    "print(p)"
   ]
  },
  {
   "cell_type": "markdown",
   "id": "372b6af1-69fc-49f7-9af7-1f780d4af83b",
   "metadata": {
    "jp-MarkdownHeadingCollapsed": true
   },
   "source": [
    "# Model Analysis"
   ]
  },
  {
   "cell_type": "code",
   "execution_count": null,
   "id": "aae82223-113f-41f8-8f18-cfd1360a87a1",
   "metadata": {},
   "outputs": [],
   "source": [
    "def build_model(dense_architecture, input_shape, learning_rate):\n",
    "    model = Sequential()\n",
    "    \n",
    "    # dense layers\n",
    "    for i in range(len(dense_architecture)):\n",
    "        width = dense_architecture[i]\n",
    "        if i == 0:\n",
    "            model.add(Dense(width, activation=\"relu\", input_shape=input_shape))\n",
    "        else:\n",
    "            model.add(Dense(width, activation=\"relu\"))\n",
    "    \n",
    "    # add output layer\n",
    "    model.add(Dense(1, activation=\"linear\"))\n",
    "\n",
    "    # compile the model\n",
    "    optimizer = keras.optimizers.Adam(learning_rate=learning_rate)\n",
    "    model.compile(loss=\"MeanSquaredError\",\n",
    "                optimizer=optimizer,\n",
    "                metrics=[\"MeanAbsoluteError\"])\n",
    "    \n",
    "    return model"
   ]
  },
  {
   "cell_type": "code",
   "execution_count": null,
   "id": "ca64927e-c503-4258-b4c6-ea71989a4f45",
   "metadata": {},
   "outputs": [],
   "source": [
    "with open(\"models/nn_1d.json\") as f:\n",
    "    hp = json.load(f)"
   ]
  },
  {
   "cell_type": "code",
   "execution_count": null,
   "id": "97eb58e5-1a69-4eef-aa8b-ebdcfd9959d6",
   "metadata": {},
   "outputs": [],
   "source": [
    "hp"
   ]
  },
  {
   "cell_type": "code",
   "execution_count": null,
   "id": "e8eca1b6-88f8-4f47-b9b4-bec949e3d405",
   "metadata": {},
   "outputs": [],
   "source": [
    "X_train, X_val, y_train, y_val, auxiliary_train, auxiliary_val = model_ready_data(\"data/X.csv\", \"data/y.csv\")\n",
    "input_shape = X_train[0].shape"
   ]
  },
  {
   "cell_type": "code",
   "execution_count": null,
   "id": "6c7526e6-da33-4df2-bfd1-cc595be8ecf2",
   "metadata": {},
   "outputs": [],
   "source": [
    "final_architecture = [int(hp[\"min_width\"])*(2**i) for i in range(int(hp[\"num_layers\"]))]\n",
    "model = build_model(final_architecture, input_shape, hp[\"learning_rate\"])\n",
    "model.load_weights(\"models/nn_1d.h5\")"
   ]
  },
  {
   "cell_type": "code",
   "execution_count": null,
   "id": "de89cce7-73a7-4ffe-915e-64e028ea6f5c",
   "metadata": {},
   "outputs": [],
   "source": [
    "preds = model.predict(X_val)\n",
    "errors = (preds[:, 0] - y_val[:, 0])\n",
    "mse = np.mean(errors**2)\n",
    "mae = np.mean(abs(errors))\n",
    "mse, mae"
   ]
  },
  {
   "cell_type": "code",
   "execution_count": null,
   "id": "1c964028-b9ff-466e-9623-005debd29ce5",
   "metadata": {},
   "outputs": [],
   "source": [
    "dates = auxiliary_val[:, 0]\n",
    "total_revenue = auxiliary_val[:, 1]\n",
    "revenue_per_share = auxiliary_val[:, 2]"
   ]
  },
  {
   "cell_type": "code",
   "execution_count": null,
   "id": "6defa72b-524e-4a4d-9fbe-d1a338952cee",
   "metadata": {},
   "outputs": [],
   "source": [
    "results = pd.DataFrame()\n",
    "results[\"preds\"] = preds[:, 0]\n",
    "results[\"true\"] = y_val[:, 0]\n",
    "results[\"error\"] = errors\n",
    "results[\"mae\"] = mae\n",
    "results[\"date\"] = dates\n",
    "results[\"total_rev\"] = total_revenue"
   ]
  },
  {
   "cell_type": "code",
   "execution_count": null,
   "id": "9b40f633-5d6e-4ad8-87bc-26c80c81fa9b",
   "metadata": {},
   "outputs": [],
   "source": [
    "def cross_with_true(df, other_column, num_cuts):\n",
    "    percentiles = []\n",
    "    for i in range(num_cuts):\n",
    "        next_percentile = np.nanpercentile(df[other_column], i*100/(num_cuts))\n",
    "        if next_percentile not in percentiles:\n",
    "            percentiles.append(round(next_percentile, 5))\n",
    "    percentiles.append(round(max(df[other_column]), 5))\n",
    "\n",
    "    formatted_ranges, mean_salaries = [], []\n",
    "    for i in range(1, len(percentiles)):\n",
    "        if i != len(percentiles)-1:\n",
    "            formatted_ranges.append(f\"[{round(percentiles[i-1]*100, 2)}, {round(percentiles[i]*100, 2)})\")\n",
    "            mean_salaries.append(round(df[(df[other_column] >= percentiles[i-1]) & (df[other_column] < percentiles[i])].true.mean()*100, 2))\n",
    "        else:\n",
    "            formatted_ranges.append(f\"[{round(percentiles[i-1]*100, 2)}, {round(percentiles[i]*100, 2)}]\")\n",
    "            mean_salaries.append(round(df[(df[other_column] >= percentiles[i-1]) & (df[other_column] <= percentiles[i])].true.mean()*100, 2))\n",
    "    \n",
    "    display_df = pd.DataFrame()\n",
    "    display_df[other_column] = formatted_ranges\n",
    "    display_df[\"true\"] = mean_salaries\n",
    "    return display_df"
   ]
  },
  {
   "cell_type": "code",
   "execution_count": null,
   "id": "0d365f75-532a-40bb-84ec-51cb47b65bf1",
   "metadata": {},
   "outputs": [],
   "source": [
    "cross_with_true(results, \"preds\", 15)"
   ]
  },
  {
   "cell_type": "code",
   "execution_count": null,
   "id": "1bb80219-eaea-422a-b84e-85a27e3c01c8",
   "metadata": {},
   "outputs": [],
   "source": [
    "plt.plot(results.preds, results.true, \"bo\")\n",
    "plt.plot([-15, 5], [-15, 5], color='red', linestyle='--', linewidth=2, label='Unity line')\n",
    "plt.xlim(-1, 1)\n",
    "plt.ylim(-1, 1)"
   ]
  },
  {
   "cell_type": "code",
   "execution_count": null,
   "id": "f7b15a01-0ec2-4328-b18d-b3b788a517cf",
   "metadata": {},
   "outputs": [],
   "source": [
    "y_val"
   ]
  },
  {
   "cell_type": "code",
   "execution_count": null,
   "id": "bf11f085-c5f2-4b31-8e12-e703cbff8891",
   "metadata": {},
   "outputs": [],
   "source": [
    "results[\"true\"].agg([\"min\", \"mean\", \"median\", \"max\", \"std\", \"var\"])"
   ]
  },
  {
   "cell_type": "code",
   "execution_count": null,
   "id": "6b0d8271-9e16-4213-ba7f-cfa6d83cda7c",
   "metadata": {},
   "outputs": [],
   "source": [
    "results[(results[\"true\"] > -0.01) & (results[\"true\"] < 0.01)]"
   ]
  },
  {
   "cell_type": "code",
   "execution_count": null,
   "id": "558bc0d3-efe6-48f5-8a35-5fb46b6aa927",
   "metadata": {},
   "outputs": [],
   "source": []
  }
 ],
 "metadata": {
  "kernelspec": {
   "display_name": "Python 3 (ipykernel)",
   "language": "python",
   "name": "python3"
  },
  "language_info": {
   "codemirror_mode": {
    "name": "ipython",
    "version": 3
   },
   "file_extension": ".py",
   "mimetype": "text/x-python",
   "name": "python",
   "nbconvert_exporter": "python",
   "pygments_lexer": "ipython3",
   "version": "3.9.13"
  }
 },
 "nbformat": 4,
 "nbformat_minor": 5
}
